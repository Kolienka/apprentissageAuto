{
 "cells": [
  {
   "cell_type": "code",
   "execution_count": 66,
   "metadata": {},
   "outputs": [
    {
     "name": "stderr",
     "output_type": "stream",
     "text": [
      "c:\\Users\\Romain\\anaconda3\\lib\\site-packages\\seaborn\\rcmod.py:82: DeprecationWarning: distutils Version classes are deprecated. Use packaging.version instead.\n",
      "  if LooseVersion(mpl.__version__) >= \"3.0\":\n",
      "c:\\Users\\Romain\\anaconda3\\lib\\site-packages\\setuptools\\_distutils\\version.py:346: DeprecationWarning: distutils Version classes are deprecated. Use packaging.version instead.\n",
      "  other = LooseVersion(other)\n"
     ]
    }
   ],
   "source": [
    "import numpy as np\n",
    "import pandas as pd\n",
    "import matplotlib.pyplot as plt\n",
    "import seaborn as sns\n",
    "from mlxtend.preprocessing import TransactionEncoder\n",
    "from mlxtend.frequent_patterns import apriori, association_rules, fpmax, fpgrowth"
   ]
  },
  {
   "cell_type": "code",
   "execution_count": 67,
   "metadata": {},
   "outputs": [],
   "source": [
    "dataset = [ \n",
    "    ['Milk', 'Onion', 'Nutmeg', 'Kidney Beans', 'Eggs', 'Yogurt'],\n",
    "    ['Dill', 'Onion', 'Nutmeg', 'Kidney Beans', 'Eggs', 'Yogurt'],\n",
    "    ['Milk', 'Apple', 'Kidney Beans', 'Eggs'],\n",
    "    ['Milk', 'Unicorn', 'Corn', 'Kidney Beans', 'Yogurt'],\n",
    "    ['Corn', 'Onion', 'Onion', 'Kidney Beans', 'Ice cream', 'Eggs']\n",
    "]\n"
   ]
  },
  {
   "cell_type": "code",
   "execution_count": 68,
   "metadata": {},
   "outputs": [],
   "source": [
    "te = TransactionEncoder()\n"
   ]
  },
  {
   "cell_type": "code",
   "execution_count": 69,
   "metadata": {},
   "outputs": [],
   "source": [
    "te_ary = te.fit(dataset).transform(dataset)\n",
    "df = pd.DataFrame(te_ary, columns=te.columns_)"
   ]
  },
  {
   "cell_type": "code",
   "execution_count": 70,
   "metadata": {},
   "outputs": [
    {
     "name": "stdout",
     "output_type": "stream",
     "text": [
      "FI type :  <class 'pandas.core.frame.DataFrame'>\n",
      "FI columns :  Index(['support', 'itemsets'], dtype='object')\n",
      "FI :      support                     itemsets\n",
      "0       0.8                       (Eggs)\n",
      "1       1.0               (Kidney Beans)\n",
      "2       0.6                       (Milk)\n",
      "3       0.6                      (Onion)\n",
      "4       0.6                     (Yogurt)\n",
      "5       0.8         (Eggs, Kidney Beans)\n",
      "6       0.6                (Eggs, Onion)\n",
      "7       0.6         (Milk, Kidney Beans)\n",
      "8       0.6        (Kidney Beans, Onion)\n",
      "9       0.6       (Kidney Beans, Yogurt)\n",
      "10      0.6  (Kidney Beans, Eggs, Onion)\n"
     ]
    }
   ],
   "source": [
    "FI = apriori(df, min_support=0.5, use_colnames=True)\n",
    "\n",
    "print(\"FI type : \", type(FI))\n",
    "print(\"FI columns : \", FI.columns)\n",
    "print(\"FI : \", FI)"
   ]
  },
  {
   "cell_type": "code",
   "execution_count": 71,
   "metadata": {},
   "outputs": [
    {
     "name": "stdout",
     "output_type": "stream",
     "text": [
      "1.5 ms ± 27 µs per loop (mean ± std. dev. of 10 runs, 100 loops each)\n"
     ]
    }
   ],
   "source": [
    "%timeit -n 100 -r 10 apriori(df, min_support=0.5)"
   ]
  },
  {
   "cell_type": "code",
   "execution_count": 72,
   "metadata": {},
   "outputs": [
    {
     "name": "stdout",
     "output_type": "stream",
     "text": [
      "565 µs ± 24.5 µs per loop (mean ± std. dev. of 10 runs, 100 loops each)\n"
     ]
    }
   ],
   "source": [
    "GFI = fpgrowth(df, min_support=0.5, use_colnames=True)\n",
    "%timeit -n 100 -r 10 fpgrowth(df, min_support=0.5)"
   ]
  },
  {
   "cell_type": "code",
   "execution_count": 73,
   "metadata": {},
   "outputs": [
    {
     "name": "stdout",
     "output_type": "stream",
     "text": [
      "573 µs ± 20.3 µs per loop (mean ± std. dev. of 10 runs, 100 loops each)\n"
     ]
    },
    {
     "data": {
      "text/html": [
       "<div>\n",
       "<style scoped>\n",
       "    .dataframe tbody tr th:only-of-type {\n",
       "        vertical-align: middle;\n",
       "    }\n",
       "\n",
       "    .dataframe tbody tr th {\n",
       "        vertical-align: top;\n",
       "    }\n",
       "\n",
       "    .dataframe thead th {\n",
       "        text-align: right;\n",
       "    }\n",
       "</style>\n",
       "<table border=\"1\" class=\"dataframe\">\n",
       "  <thead>\n",
       "    <tr style=\"text-align: right;\">\n",
       "      <th></th>\n",
       "      <th>support</th>\n",
       "      <th>itemsets</th>\n",
       "    </tr>\n",
       "  </thead>\n",
       "  <tbody>\n",
       "    <tr>\n",
       "      <th>0</th>\n",
       "      <td>0.6</td>\n",
       "      <td>(Milk, Kidney Beans)</td>\n",
       "    </tr>\n",
       "    <tr>\n",
       "      <th>1</th>\n",
       "      <td>0.6</td>\n",
       "      <td>(Kidney Beans, Eggs, Onion)</td>\n",
       "    </tr>\n",
       "    <tr>\n",
       "      <th>2</th>\n",
       "      <td>0.6</td>\n",
       "      <td>(Kidney Beans, Yogurt)</td>\n",
       "    </tr>\n",
       "  </tbody>\n",
       "</table>\n",
       "</div>"
      ],
      "text/plain": [
       "   support                     itemsets\n",
       "0      0.6         (Milk, Kidney Beans)\n",
       "1      0.6  (Kidney Beans, Eggs, Onion)\n",
       "2      0.6       (Kidney Beans, Yogurt)"
      ]
     },
     "execution_count": 73,
     "metadata": {},
     "output_type": "execute_result"
    }
   ],
   "source": [
    "MFI = fpmax(df, min_support=0.5, use_colnames=True)\n",
    "%timeit -n 100 -r 10 fpmax(df, min_support=0.5)\n",
    "MFI"
   ]
  },
  {
   "cell_type": "code",
   "execution_count": 74,
   "metadata": {},
   "outputs": [
    {
     "name": "stdout",
     "output_type": "stream",
     "text": [
      "frozenset({'Eggs'})  ->  frozenset({'Kidney Beans'})  :  1.0\n",
      "frozenset({'Kidney Beans'})  ->  frozenset({'Eggs'})  :  0.8\n",
      "frozenset({'Onion'})  ->  frozenset({'Eggs'})  :  1.0\n",
      "frozenset({'Milk'})  ->  frozenset({'Kidney Beans'})  :  1.0\n",
      "frozenset({'Onion'})  ->  frozenset({'Kidney Beans'})  :  1.0\n",
      "frozenset({'Yogurt'})  ->  frozenset({'Kidney Beans'})  :  1.0\n",
      "frozenset({'Onion', 'Kidney Beans'})  ->  frozenset({'Eggs'})  :  1.0\n",
      "frozenset({'Eggs', 'Onion'})  ->  frozenset({'Kidney Beans'})  :  1.0\n",
      "frozenset({'Onion'})  ->  frozenset({'Eggs', 'Kidney Beans'})  :  1.0\n"
     ]
    }
   ],
   "source": [
    "AR = association_rules(FI, metric=\"confidence\", min_threshold=0.8)\n",
    "for index, row in AR.iterrows():\n",
    "    print(row['antecedents'], \" -> \", row['consequents'], \" : \", row['confidence'])"
   ]
  },
  {
   "cell_type": "code",
   "execution_count": 75,
   "metadata": {},
   "outputs": [],
   "source": [
    "retail_ds = pd.read_csv('datasets/retail_dataset.csv',sep=',',header=0)"
   ]
  },
  {
   "cell_type": "code",
   "execution_count": 76,
   "metadata": {},
   "outputs": [
    {
     "data": {
      "text/html": [
       "<div>\n",
       "<style scoped>\n",
       "    .dataframe tbody tr th:only-of-type {\n",
       "        vertical-align: middle;\n",
       "    }\n",
       "\n",
       "    .dataframe tbody tr th {\n",
       "        vertical-align: top;\n",
       "    }\n",
       "\n",
       "    .dataframe thead th {\n",
       "        text-align: right;\n",
       "    }\n",
       "</style>\n",
       "<table border=\"1\" class=\"dataframe\">\n",
       "  <thead>\n",
       "    <tr style=\"text-align: right;\">\n",
       "      <th></th>\n",
       "      <th>Bagel</th>\n",
       "      <th>Bread</th>\n",
       "      <th>Cheese</th>\n",
       "      <th>Diaper</th>\n",
       "      <th>Eggs</th>\n",
       "      <th>Meat</th>\n",
       "      <th>Milk</th>\n",
       "      <th>Pencil</th>\n",
       "      <th>Wine</th>\n",
       "    </tr>\n",
       "  </thead>\n",
       "  <tbody>\n",
       "    <tr>\n",
       "      <th>0</th>\n",
       "      <td>False</td>\n",
       "      <td>True</td>\n",
       "      <td>True</td>\n",
       "      <td>True</td>\n",
       "      <td>True</td>\n",
       "      <td>True</td>\n",
       "      <td>False</td>\n",
       "      <td>True</td>\n",
       "      <td>True</td>\n",
       "    </tr>\n",
       "    <tr>\n",
       "      <th>1</th>\n",
       "      <td>False</td>\n",
       "      <td>True</td>\n",
       "      <td>True</td>\n",
       "      <td>True</td>\n",
       "      <td>False</td>\n",
       "      <td>True</td>\n",
       "      <td>True</td>\n",
       "      <td>True</td>\n",
       "      <td>True</td>\n",
       "    </tr>\n",
       "    <tr>\n",
       "      <th>2</th>\n",
       "      <td>False</td>\n",
       "      <td>False</td>\n",
       "      <td>True</td>\n",
       "      <td>False</td>\n",
       "      <td>True</td>\n",
       "      <td>True</td>\n",
       "      <td>True</td>\n",
       "      <td>False</td>\n",
       "      <td>True</td>\n",
       "    </tr>\n",
       "    <tr>\n",
       "      <th>3</th>\n",
       "      <td>False</td>\n",
       "      <td>False</td>\n",
       "      <td>True</td>\n",
       "      <td>False</td>\n",
       "      <td>True</td>\n",
       "      <td>True</td>\n",
       "      <td>True</td>\n",
       "      <td>False</td>\n",
       "      <td>True</td>\n",
       "    </tr>\n",
       "    <tr>\n",
       "      <th>4</th>\n",
       "      <td>False</td>\n",
       "      <td>False</td>\n",
       "      <td>False</td>\n",
       "      <td>False</td>\n",
       "      <td>False</td>\n",
       "      <td>True</td>\n",
       "      <td>False</td>\n",
       "      <td>True</td>\n",
       "      <td>True</td>\n",
       "    </tr>\n",
       "    <tr>\n",
       "      <th>5</th>\n",
       "      <td>True</td>\n",
       "      <td>True</td>\n",
       "      <td>False</td>\n",
       "      <td>True</td>\n",
       "      <td>True</td>\n",
       "      <td>False</td>\n",
       "      <td>True</td>\n",
       "      <td>True</td>\n",
       "      <td>True</td>\n",
       "    </tr>\n",
       "    <tr>\n",
       "      <th>6</th>\n",
       "      <td>False</td>\n",
       "      <td>False</td>\n",
       "      <td>True</td>\n",
       "      <td>False</td>\n",
       "      <td>True</td>\n",
       "      <td>False</td>\n",
       "      <td>False</td>\n",
       "      <td>True</td>\n",
       "      <td>True</td>\n",
       "    </tr>\n",
       "    <tr>\n",
       "      <th>7</th>\n",
       "      <td>True</td>\n",
       "      <td>True</td>\n",
       "      <td>False</td>\n",
       "      <td>True</td>\n",
       "      <td>False</td>\n",
       "      <td>False</td>\n",
       "      <td>True</td>\n",
       "      <td>True</td>\n",
       "      <td>False</td>\n",
       "    </tr>\n",
       "    <tr>\n",
       "      <th>8</th>\n",
       "      <td>False</td>\n",
       "      <td>True</td>\n",
       "      <td>True</td>\n",
       "      <td>True</td>\n",
       "      <td>True</td>\n",
       "      <td>False</td>\n",
       "      <td>True</td>\n",
       "      <td>False</td>\n",
       "      <td>True</td>\n",
       "    </tr>\n",
       "    <tr>\n",
       "      <th>9</th>\n",
       "      <td>True</td>\n",
       "      <td>False</td>\n",
       "      <td>True</td>\n",
       "      <td>True</td>\n",
       "      <td>True</td>\n",
       "      <td>True</td>\n",
       "      <td>False</td>\n",
       "      <td>True</td>\n",
       "      <td>True</td>\n",
       "    </tr>\n",
       "  </tbody>\n",
       "</table>\n",
       "</div>"
      ],
      "text/plain": [
       "   Bagel  Bread  Cheese  Diaper   Eggs   Meat   Milk  Pencil   Wine\n",
       "0  False   True    True    True   True   True  False    True   True\n",
       "1  False   True    True    True  False   True   True    True   True\n",
       "2  False  False    True   False   True   True   True   False   True\n",
       "3  False  False    True   False   True   True   True   False   True\n",
       "4  False  False   False   False  False   True  False    True   True\n",
       "5   True   True   False    True   True  False   True    True   True\n",
       "6  False  False    True   False   True  False  False    True   True\n",
       "7   True   True   False    True  False  False   True    True  False\n",
       "8  False   True    True    True   True  False   True   False   True\n",
       "9   True  False    True    True   True   True  False    True   True"
      ]
     },
     "execution_count": 76,
     "metadata": {},
     "output_type": "execute_result"
    }
   ],
   "source": [
    "cleaned_ds = []\n",
    "for i in range(len(retail_ds)):\n",
    "    cleaned_row = [item for item in retail_ds.values[i, :] if str(item) != 'nan']\n",
    "    cleaned_ds.append(cleaned_row)\n",
    "te_ary = te.fit(cleaned_ds).transform(cleaned_ds)\n",
    "cleaned_df = pd.DataFrame(te_ary, columns=te.columns_)\n",
    "cleaned_df.head(10)"
   ]
  },
  {
   "cell_type": "code",
   "execution_count": 77,
   "metadata": {},
   "outputs": [
    {
     "data": {
      "text/plain": [
       "[<matplotlib.lines.Line2D at 0x25e38d483d0>]"
      ]
     },
     "execution_count": 77,
     "metadata": {},
     "output_type": "execute_result"
    },
    {
     "data": {
      "image/png": "[encoded data removed]",
      "text/plain": [
       "<Figure size 640x480 with 1 Axes>"
      ]
     },
     "metadata": {},
     "output_type": "display_data"
    }
   ],
   "source": [
    "done = False\n",
    "support = 0.01\n",
    "x = []\n",
    "y = []\n",
    "while not done:\n",
    "    FI = apriori(cleaned_df, min_support=support, use_colnames=True)\n",
    "    x.append(support)\n",
    "    y.append(len(FI))\n",
    "    if len(FI) == 0:\n",
    "        done = True\n",
    "    else:\n",
    "        support += 0.01\n",
    "\n",
    "plt.plot(x, y)\n"
   ]
  },
  {
   "cell_type": "code",
   "execution_count": 78,
   "metadata": {},
   "outputs": [
    {
     "name": "stdout",
     "output_type": "stream",
     "text": [
      "FI type :  <class 'pandas.core.frame.DataFrame'>\n",
      "FI columns :  Index(['support', 'itemsets'], dtype='object')\n",
      "FI sample:      support        itemsets\n",
      "0  0.425397         (Bagel)\n",
      "1  0.504762         (Bread)\n",
      "2  0.501587        (Cheese)\n",
      "3  0.406349        (Diaper)\n",
      "4  0.438095          (Eggs)\n",
      "5  0.476190          (Meat)\n",
      "6  0.501587          (Milk)\n",
      "7  0.361905        (Pencil)\n",
      "8  0.438095          (Wine)\n",
      "9  0.279365  (Bread, Bagel)\n",
      "      support                             itemsets\n",
      "35   0.266667                         (Meat, Eggs)\n",
      "63   0.092063                  (Meat, Eggs, Bagel)\n",
      "84   0.092063                  (Meat, Bread, Eggs)\n",
      "99   0.215873                 (Meat, Cheese, Eggs)\n",
      "109  0.085714                 (Diaper, Eggs, Meat)\n",
      "119  0.177778                   (Meat, Eggs, Milk)\n",
      "120  0.079365                 (Meat, Eggs, Pencil)\n",
      "121  0.149206                   (Meat, Eggs, Wine)\n",
      "140  0.044444           (Meat, Bread, Eggs, Bagel)\n",
      "155  0.063492          (Meat, Cheese, Bagel, Eggs)\n",
      "165  0.050794          (Diaper, Eggs, Bagel, Meat)\n",
      "173  0.041270            (Meat, Eggs, Bagel, Milk)\n",
      "174  0.038095          (Meat, Pencil, Eggs, Bagel)\n",
      "175  0.057143            (Meat, Eggs, Bagel, Wine)\n",
      "188  0.063492          (Meat, Bread, Cheese, Eggs)\n",
      "198  0.044444          (Diaper, Bread, Eggs, Meat)\n",
      "208  0.060317            (Meat, Bread, Eggs, Milk)\n",
      "209  0.047619          (Meat, Bread, Eggs, Pencil)\n",
      "210  0.063492            (Meat, Bread, Eggs, Wine)\n",
      "218  0.060317         (Diaper, Meat, Cheese, Eggs)\n",
      "228  0.152381           (Meat, Cheese, Eggs, Milk)\n",
      "229  0.053968         (Meat, Cheese, Pencil, Eggs)\n",
      "230  0.111111           (Meat, Cheese, Wine, Eggs)\n",
      "238  0.031746           (Diaper, Eggs, Meat, Milk)\n",
      "239  0.034921         (Diaper, Eggs, Pencil, Meat)\n",
      "240  0.057143           (Diaper, Eggs, Wine, Meat)\n",
      "247  0.041270           (Meat, Eggs, Pencil, Milk)\n",
      "248  0.092063             (Meat, Eggs, Wine, Milk)\n",
      "249  0.060317           (Meat, Eggs, Pencil, Wine)\n",
      "259  0.038095  (Eggs, Bagel, Diaper, Meat, Cheese)\n",
      "264  0.034921    (Eggs, Bagel, Meat, Cheese, Wine)\n",
      "266  0.031746  (Eggs, Diaper, Bread, Meat, Cheese)\n",
      "274  0.038095    (Eggs, Meat, Bread, Cheese, Milk)\n",
      "275  0.034921  (Eggs, Meat, Bread, Cheese, Pencil)\n",
      "276  0.041270    (Eggs, Meat, Bread, Cheese, Wine)\n",
      "287  0.034921    (Eggs, Meat, Bread, Milk, Pencil)\n",
      "288  0.041270      (Eggs, Meat, Bread, Milk, Wine)\n",
      "289  0.031746    (Eggs, Meat, Bread, Pencil, Wine)\n",
      "292  0.038095   (Eggs, Diaper, Meat, Cheese, Wine)\n",
      "296  0.073016     (Eggs, Meat, Cheese, Milk, Wine)\n",
      "297  0.044444   (Eggs, Meat, Cheese, Pencil, Wine)\n"
     ]
    }
   ],
   "source": [
    "FI = apriori(cleaned_df, min_support=0.03, use_colnames=True)\n",
    "print(\"FI type : \", type(FI))\n",
    "print(\"FI columns : \", FI.columns)\n",
    "print(\"FI sample: \", FI.head(10))\n",
    "\n",
    "eggs_contained_items = FI[FI['itemsets'].apply(lambda x: 'Eggs' in x)]\n",
    "eggs_and_meat_contained_items = eggs_contained_items[eggs_contained_items['itemsets'].apply(lambda x: 'Meat' in x)]\n",
    "\n",
    "print(eggs_and_meat_contained_items)"
   ]
  },
  {
   "cell_type": "code",
   "execution_count": 79,
   "metadata": {},
   "outputs": [
    {
     "name": "stdout",
     "output_type": "stream",
     "text": [
      "                      antecedents consequents  antecedent support  \\\n",
      "1                    (Meat, Eggs)    (Cheese)            0.266667   \n",
      "2                    (Milk, Eggs)    (Cheese)            0.244444   \n",
      "3                    (Meat, Milk)    (Cheese)            0.244444   \n",
      "9              (Meat, Eggs, Milk)    (Cheese)            0.177778   \n",
      "11             (Milk, Eggs, Wine)    (Cheese)            0.136508   \n",
      "13             (Meat, Wine, Milk)    (Cheese)            0.126984   \n",
      "17    (Diaper, Eggs, Bagel, Meat)    (Cheese)            0.050794   \n",
      "20  (Diaper, Pencil, Bagel, Wine)    (Cheese)            0.041270   \n",
      "31       (Meat, Eggs, Wine, Milk)    (Cheese)            0.092063   \n",
      "\n",
      "    consequent support   support  confidence      lift  leverage  conviction  \n",
      "1             0.501587  0.215873    0.809524  1.613924  0.082116    2.616667  \n",
      "2             0.501587  0.196825    0.805195  1.605293  0.074215    2.558519  \n",
      "3             0.501587  0.203175    0.831169  1.657077  0.080564    2.952137  \n",
      "9             0.501587  0.152381    0.857143  1.708861  0.063210    3.488889  \n",
      "11            0.501587  0.104762    0.767442  1.530026  0.036291    2.143175  \n",
      "13            0.501587  0.101587    0.800000  1.594937  0.037894    2.492063  \n",
      "17            0.501587  0.038095    0.750000  1.495253  0.012618    1.993651  \n",
      "20            0.501587  0.031746    0.769231  1.533593  0.011046    2.159788  \n",
      "31            0.501587  0.073016    0.793103  1.581187  0.026838    2.408995  \n"
     ]
    }
   ],
   "source": [
    "AR = association_rules(FI, metric=\"confidence\",min_threshold=0.75)\n",
    "\n",
    "cheese_as_consquent = AR[AR['consequents'].apply(lambda x: 'Cheese' in x)]\n",
    "\n",
    "print(cheese_as_consquent)"
   ]
  },
  {
   "cell_type": "code",
   "execution_count": 80,
   "metadata": {},
   "outputs": [
    {
     "data": {
      "image/png": "[encoded data removed]",
      "text/plain": [
       "<Figure size 640x480 with 1 Axes>"
      ]
     },
     "metadata": {},
     "output_type": "display_data"
    }
   ],
   "source": [
    "metrics = ['lift', 'confidence', 'support']\n",
    "for metric in metrics:\n",
    "    done = False\n",
    "    metric_val = 0.01\n",
    "    x = []\n",
    "    y = []\n",
    "    while not done:\n",
    "        AR = association_rules(FI, metric=metric, min_threshold=metric_val)\n",
    "        x.append(metric_val)\n",
    "        y.append(len(AR))\n",
    "        if len(AR) == 0:\n",
    "            done = True\n",
    "        else:\n",
    "            metric_val += 0.01\n",
    "\n",
    "    plt.plot(x, y, label=metric)\n",
    "    plt.legend()"
   ]
  }
 ],
 "metadata": {
  "kernelspec": {
   "display_name": "base",
   "language": "python",
   "name": "python3"
  },
  "language_info": {
   "codemirror_mode": {
    "name": "ipython",
    "version": 3
   },
   "file_extension": ".py",
   "mimetype": "text/x-python",
   "name": "python",
   "nbconvert_exporter": "python",
   "pygments_lexer": "ipython3",
   "version": "3.9.13"
  },
  "orig_nbformat": 4,
  "vscode": {
   "interpreter": {
    "hash": "c86c72a7c49d67d79c3aaaca831513293cb4e1e4a83ef0f3b83593a1e0bb12fa"
   }
  }
 },
 "nbformat": 4,
 "nbformat_minor": 2
}
