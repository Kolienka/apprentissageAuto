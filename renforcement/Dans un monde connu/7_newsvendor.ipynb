{
 "cells": [
  {
   "cell_type": "markdown",
   "id": "aefd034b",
   "metadata": {
    "slideshow": {
     "slide_type": "slide"
    }
   },
   "source": [
    "## Création d'un environnement\n",
    "\n",
    "Dans ce notebook nous allons nous intéresser à la création d'un environnement."
   ]
  },
  {
   "cell_type": "markdown",
   "id": "0ee93f1e",
   "metadata": {
    "slideshow": {
     "slide_type": "fragment"
    }
   },
   "source": [
    "Créer un environnement est une étape nécessaire à l'entrainement d'agents destinés à résoudre un problème particulier."
   ]
  },
  {
   "cell_type": "markdown",
   "id": "08d97be3",
   "metadata": {
    "slideshow": {
     "slide_type": "subslide"
    }
   },
   "source": [
    "Jusqu'à présent, nous nous sommes basés sur un environnement déjà existant donc l'objectif était principalement pédagogique. Cependant, si vous devez mettre en pratique vos connaissances en apprentissage par renforcement il est probable que vous ayez à le faire sur un problème non répertorié. "
   ]
  },
  {
   "cell_type": "markdown",
   "id": "9313ec91",
   "metadata": {
    "slideshow": {
     "slide_type": "subslide"
    }
   },
   "source": [
    "Nous allons donc nous pencher sur la bibliothèque  [`gym`](https://www.gymlibrary.dev/), qui propose non seulement des environnements directement utilisables mais également de quoi concevoir le sien."
   ]
  },
  {
   "cell_type": "markdown",
   "id": "d8bc64d0",
   "metadata": {
    "slideshow": {
     "slide_type": "slide"
    }
   },
   "source": [
    "## Gestion des imports"
   ]
  },
  {
   "cell_type": "code",
   "execution_count": 3,
   "id": "cf58295f",
   "metadata": {
    "slideshow": {
     "slide_type": "subslide"
    }
   },
   "outputs": [
    {
     "name": "stdout",
     "output_type": "stream",
     "text": [
      "pygame 2.1.4.dev1 (SDL 2.26.0, Python 3.11.1)\n",
      "Hello from the pygame community. https://www.pygame.org/contribute.html\n"
     ]
    },
    {
     "name": "stderr",
     "output_type": "stream",
     "text": [
      "objc[69697]: Class SDLApplication is implemented in both /opt/local/lib/libSDL2-2.0.0.dylib (0x11f8187c0) and /opt/homebrew/Cellar/sdl2/2.26.1/lib/libSDL2-2.0.0.dylib (0x11fdf0800). One of the two will be used. Which one is undefined.\n",
      "objc[69697]: Class SDLAppDelegate is implemented in both /opt/local/lib/libSDL2-2.0.0.dylib (0x11f818810) and /opt/homebrew/Cellar/sdl2/2.26.1/lib/libSDL2-2.0.0.dylib (0x11fdf0850). One of the two will be used. Which one is undefined.\n",
      "objc[69697]: Class SDLTranslatorResponder is implemented in both /opt/local/lib/libSDL2-2.0.0.dylib (0x11f818888) and /opt/homebrew/Cellar/sdl2/2.26.1/lib/libSDL2-2.0.0.dylib (0x11fdf08c8). One of the two will be used. Which one is undefined.\n",
      "objc[69697]: Class SDLMessageBoxPresenter is implemented in both /opt/local/lib/libSDL2-2.0.0.dylib (0x11f8188b0) and /opt/homebrew/Cellar/sdl2/2.26.1/lib/libSDL2-2.0.0.dylib (0x11fdf08f0). One of the two will be used. Which one is undefined.\n",
      "objc[69697]: Class SDL_cocoametalview is implemented in both /opt/local/lib/libSDL2-2.0.0.dylib (0x11f818900) and /opt/homebrew/Cellar/sdl2/2.26.1/lib/libSDL2-2.0.0.dylib (0x11fdf0940). One of the two will be used. Which one is undefined.\n",
      "objc[69697]: Class SDLOpenGLContext is implemented in both /opt/local/lib/libSDL2-2.0.0.dylib (0x11f818950) and /opt/homebrew/Cellar/sdl2/2.26.1/lib/libSDL2-2.0.0.dylib (0x11fdf0990). One of the two will be used. Which one is undefined.\n",
      "objc[69697]: Class SDL_ShapeData is implemented in both /opt/local/lib/libSDL2-2.0.0.dylib (0x11f8189c8) and /opt/homebrew/Cellar/sdl2/2.26.1/lib/libSDL2-2.0.0.dylib (0x11fdf0a08). One of the two will be used. Which one is undefined.\n",
      "objc[69697]: Class SDL_CocoaClosure is implemented in both /opt/local/lib/libSDL2-2.0.0.dylib (0x11f818a18) and /opt/homebrew/Cellar/sdl2/2.26.1/lib/libSDL2-2.0.0.dylib (0x11fdf0a58). One of the two will be used. Which one is undefined.\n",
      "objc[69697]: Class SDL_VideoData is implemented in both /opt/local/lib/libSDL2-2.0.0.dylib (0x11f818a68) and /opt/homebrew/Cellar/sdl2/2.26.1/lib/libSDL2-2.0.0.dylib (0x11fdf0aa8). One of the two will be used. Which one is undefined.\n",
      "objc[69697]: Class SDL_WindowData is implemented in both /opt/local/lib/libSDL2-2.0.0.dylib (0x11f818ab8) and /opt/homebrew/Cellar/sdl2/2.26.1/lib/libSDL2-2.0.0.dylib (0x11fdf0af8). One of the two will be used. Which one is undefined.\n",
      "objc[69697]: Class SDLWindow is implemented in both /opt/local/lib/libSDL2-2.0.0.dylib (0x11f818ae0) and /opt/homebrew/Cellar/sdl2/2.26.1/lib/libSDL2-2.0.0.dylib (0x11fdf0b20). One of the two will be used. Which one is undefined.\n",
      "objc[69697]: Class Cocoa_WindowListener is implemented in both /opt/local/lib/libSDL2-2.0.0.dylib (0x11f818b08) and /opt/homebrew/Cellar/sdl2/2.26.1/lib/libSDL2-2.0.0.dylib (0x11fdf0b48). One of the two will be used. Which one is undefined.\n",
      "objc[69697]: Class SDLView is implemented in both /opt/local/lib/libSDL2-2.0.0.dylib (0x11f818b80) and /opt/homebrew/Cellar/sdl2/2.26.1/lib/libSDL2-2.0.0.dylib (0x11fdf0bc0). One of the two will be used. Which one is undefined.\n",
      "objc[69697]: Class METAL_RenderData is implemented in both /opt/local/lib/libSDL2-2.0.0.dylib (0x11f818bf8) and /opt/homebrew/Cellar/sdl2/2.26.1/lib/libSDL2-2.0.0.dylib (0x11fdf0c38). One of the two will be used. Which one is undefined.\n",
      "objc[69697]: Class METAL_TextureData is implemented in both /opt/local/lib/libSDL2-2.0.0.dylib (0x11f818c48) and /opt/homebrew/Cellar/sdl2/2.26.1/lib/libSDL2-2.0.0.dylib (0x11fdf0c88). One of the two will be used. Which one is undefined.\n",
      "objc[69697]: Class SDL_RumbleMotor is implemented in both /opt/local/lib/libSDL2-2.0.0.dylib (0x11f818c70) and /opt/homebrew/Cellar/sdl2/2.26.1/lib/libSDL2-2.0.0.dylib (0x11fdf0cb0). One of the two will be used. Which one is undefined.\n",
      "objc[69697]: Class SDL_RumbleContext is implemented in both /opt/local/lib/libSDL2-2.0.0.dylib (0x11f818cc0) and /opt/homebrew/Cellar/sdl2/2.26.1/lib/libSDL2-2.0.0.dylib (0x11fdf0d00). One of the two will be used. Which one is undefined.\n"
     ]
    }
   ],
   "source": [
    "import gym\n",
    "from gym import spaces\n",
    "from gym.utils.env_checker import check_env\n",
    "import matplotlib.pyplot as plt\n",
    "import numpy as np\n",
    "from bucket_env import plot_stats\n",
    "%matplotlib inline"
   ]
  },
  {
   "cell_type": "markdown",
   "id": "d7ff6b39",
   "metadata": {
    "slideshow": {
     "slide_type": "slide"
    }
   },
   "source": [
    "# Le problème du vendeur de journaux\n",
    "\n",
    "<img src=\"images/newsvendor.png\" alt=\"image\" width=\"200\"/>"
   ]
  },
  {
   "cell_type": "markdown",
   "id": "86c21893",
   "metadata": {
    "slideshow": {
     "slide_type": "subslide"
    }
   },
   "source": [
    "## Définition\n",
    "\n",
    "Ce problème est une généralisation du problème de gestion de stock simple dit du \"vendeur de journaux\" (largement utilisé pour introduire les principaux outils et techniques de la programmation stochastique). \n"
   ]
  },
  {
   "cell_type": "markdown",
   "id": "14ec64e2",
   "metadata": {
    "slideshow": {
     "slide_type": "subslide"
    }
   },
   "source": [
    "Supposons que vous êtes un vendeur de journaux et que chaque jour de la semaine $j$, et ce, pendant $N$ semaines, vous devez décider du nombre de journaux à commander, $x_j$. La demande quotidienne de revues, $d_j$, est une variable aléatoire dont la distribution est *a priori* inconnue. On supposera qu'elle est au maximum de $M$. Le coût de commande d'un journal est $c$, le profit lié à la vente d'un journal est $p$. Il n'y a pas de coût de stock, les invendus sont jetés. \n",
    "\n",
    "Votre objectif est de commander la bonne quantité chaque jour de façon à maximiser votre profit.\n"
   ]
  },
  {
   "attachments": {},
   "cell_type": "markdown",
   "id": "ec5878c8",
   "metadata": {
    "slideshow": {
     "slide_type": "subslide"
    }
   },
   "source": [
    "Pour démarrer, nous allons considérer les valeurs suivantes: \n",
    "- $N = 30$ (nombre de semaine)\n",
    "- $M = 100$ (nombre max de journal à acheter)\n",
    "- $c = 5$ (coût d'achat d'un journal du pdv du facteur)\n",
    "- $p = 2$ (profit dégagé par chaque journal)\n"
   ]
  },
  {
   "cell_type": "markdown",
   "id": "20d1bcbd",
   "metadata": {
    "slideshow": {
     "slide_type": "subslide"
    }
   },
   "source": [
    "Le profit d'une journée est calculé par la formule suivante: $$v_j \\times p - i_j \\times c$$ où:\n",
    "- $v_j$ est la quantité de journaux vendus,\n",
    "- $i_j$ est la quantité de journaux non vendus. \n",
    "\n",
    "Ces quantités sont déterminées en fonction de $d_j$ et $x_j$."
   ]
  },
  {
   "cell_type": "markdown",
   "id": "e43abae5",
   "metadata": {
    "slideshow": {
     "slide_type": "slide"
    }
   },
   "source": [
    "## L'environnement `gym.Env`\n",
    "\n",
    "#### Les méthodes\n",
    "\n",
    "Un environnement, tel que défini par la bibliothèque `gym` est composé de 4 fonctions principales:\n"
   ]
  },
  {
   "cell_type": "markdown",
   "id": "dc6ef44d",
   "metadata": {
    "slideshow": {
     "slide_type": "subslide"
    }
   },
   "source": [
    "- `step` :  Effectue une étape dans l'environnement en utilisant une action qui renvoie la prochaine observation, la récompense si l'environnement s'est terminé et des informations sur l'observation."
   ]
  },
  {
   "cell_type": "markdown",
   "id": "743fbbfd",
   "metadata": {
    "slideshow": {
     "slide_type": "subslide"
    }
   },
   "source": [
    "- `reset` : Réinitialise l'environnement à un état initial, en renvoyant l'observation initiale et les informations d'observation."
   ]
  },
  {
   "cell_type": "markdown",
   "id": "de617c5d",
   "metadata": {
    "slideshow": {
     "slide_type": "subslide"
    }
   },
   "source": [
    "- `render` : Produit le Rendu de l'observation de l'environnement avec des modes dépendants de la sortie."
   ]
  },
  {
   "cell_type": "markdown",
   "id": "b6941557",
   "metadata": {
    "slideshow": {
     "slide_type": "subslide"
    }
   },
   "source": [
    "- `close` - Ferme l'environnement, important pour le rendu lorsque pygame est importé."
   ]
  },
  {
   "cell_type": "markdown",
   "id": "d2074be7",
   "metadata": {
    "slideshow": {
     "slide_type": "fragment"
    }
   },
   "source": [
    "De plus, il est nécessaire de déclarer un constructeur, `__init__` afin de déclarer les variables de classe."
   ]
  },
  {
   "cell_type": "markdown",
   "id": "fafb7a3d",
   "metadata": {
    "slideshow": {
     "slide_type": "subslide"
    }
   },
   "source": [
    "#### Les attributs\n",
    "\n",
    "Un environnement dipose de plusieurs attributs, dont:\n",
    "\n",
    "- `action_space` : L'espace correspondant aux actions valides\n",
    "- `observation_space` : L'espace correspondant aux observations valides\n",
    "- `reward_range` : Un tuple correspondant à l'intervalle des récompenses possibles\n",
    "- `np_random` : Le générateur de nombres aléatoires pour l'environnement"
   ]
  },
  {
   "cell_type": "markdown",
   "id": "35359f07",
   "metadata": {
    "slideshow": {
     "slide_type": "slide"
    }
   },
   "source": [
    "## Les états possibles\n",
    "\n",
    "Le tuple renvoyé par retour des fonctions `step` et `reset` est composé de 4 éléments: l'**état courant**, la **récompense**, un booléen indiquant si un **état terminal** est atteint et un dictionnaire d'informations additionnelles.\n"
   ]
  },
  {
   "cell_type": "markdown",
   "id": "ee688966",
   "metadata": {
    "slideshow": {
     "slide_type": "subslide"
    }
   },
   "source": [
    "Dans le cas du vendeur de journaux:"
   ]
  },
  {
   "cell_type": "markdown",
   "id": "d6163de9",
   "metadata": {
    "slideshow": {
     "slide_type": "fragment"
    }
   },
   "source": [
    "- l'état est constitué d'un entier représentant le jour de la semaine ($0$: lundi)"
   ]
  },
  {
   "cell_type": "markdown",
   "id": "01284ed6",
   "metadata": {
    "slideshow": {
     "slide_type": "fragment"
    }
   },
   "source": [
    "- la récompense est le résultat du profit quotidien"
   ]
  },
  {
   "cell_type": "markdown",
   "id": "11fa6b18",
   "metadata": {
    "slideshow": {
     "slide_type": "fragment"
    }
   },
   "source": [
    "- l'état terminal est atteint quand les 30 semaines sont écoulées"
   ]
  },
  {
   "cell_type": "markdown",
   "id": "ddd681bb",
   "metadata": {
    "slideshow": {
     "slide_type": "fragment"
    }
   },
   "source": [
    "- le dictionnaire sera toujours vide, `{}`"
   ]
  },
  {
   "cell_type": "markdown",
   "id": "98403d5b",
   "metadata": {
    "slideshow": {
     "slide_type": "subslide"
    }
   },
   "source": [
    "Nous déclarerons également l'espace des états, `spaces.Discrete(7)`, comme les 7 jours de la semaine."
   ]
  },
  {
   "cell_type": "markdown",
   "id": "681dc6af",
   "metadata": {
    "slideshow": {
     "slide_type": "slide"
    }
   },
   "source": [
    "## Les actions possibles\n",
    "\n",
    "La méthode `step` prend en paramètre un objet `action` représentant l'action à appliquer dans l'état courant.\n",
    "\n",
    "Dans le cas du vendeur de journaux:\n"
   ]
  },
  {
   "cell_type": "markdown",
   "id": "ced3f1ec",
   "metadata": {},
   "source": [
    "- l'action correspond au nombre de journaux commandés"
   ]
  },
  {
   "cell_type": "markdown",
   "id": "279c8f9d",
   "metadata": {},
   "source": [
    "Nous déclarerons également l'espace des actions, `spaces.Discrete(100)`."
   ]
  },
  {
   "cell_type": "markdown",
   "id": "dbdb3e99",
   "metadata": {
    "slideshow": {
     "slide_type": "slide"
    }
   },
   "source": [
    "## Les variables d'instance\n",
    "\n",
    "Afin de restituer des états cohérents, il est nécessaire de créer et manipuler lors des appels aux méthodes `__init__`, `reset` et `step` des variables d'instances. Cela va être utile pour déterminer si un état est terminal, pour calculer la récompense ou valider l'action."
   ]
  },
  {
   "cell_type": "markdown",
   "id": "e291f9a1",
   "metadata": {
    "slideshow": {
     "slide_type": "subslide"
    }
   },
   "source": [
    "Dans le cas du vendeur de journaux, il faut dans un premier temps déclarer les variables $c$, $p$, $N$ et $M$."
   ]
  },
  {
   "cell_type": "markdown",
   "id": "02f33de2",
   "metadata": {
    "slideshow": {
     "slide_type": "subslide"
    }
   },
   "source": [
    "Nous considérons aussi que la demande varie en fonction du jour de la semaine. \n",
    "Une manière de faire est de tirer aléatoirement la valeur dans l'intervalle $[0, M]$ avec `numpy.random`. \n",
    "Seulement, il n'est pas possible de d'indiquer que la demande fluctue avec le jour."
   ]
  },
  {
   "cell_type": "markdown",
   "id": "edbab3f0",
   "metadata": {
    "slideshow": {
     "slide_type": "subslide"
    }
   },
   "source": [
    "Pour ce faire, nous allons reposer sur la librairie `import scipy.stats` qui va nous permettre de générer des variables aléatoire sur la base d'une loi de distribution, par exemple la loi normale, et la configurer avec une moyenne et un écart-type."
   ]
  },
  {
   "cell_type": "code",
   "execution_count": 4,
   "id": "9d86982a",
   "metadata": {
    "slideshow": {
     "slide_type": "fragment"
    }
   },
   "outputs": [],
   "source": [
    "import scipy.stats as stat"
   ]
  },
  {
   "cell_type": "code",
   "execution_count": 5,
   "id": "70b64954",
   "metadata": {
    "slideshow": {
     "slide_type": "fragment"
    }
   },
   "outputs": [
    {
     "data": {
      "text/plain": [
       "48.35730832399016"
      ]
     },
     "execution_count": 5,
     "metadata": {},
     "output_type": "execute_result"
    }
   ],
   "source": [
    "mean = 50\n",
    "std = 20\n",
    "stat.norm.rvs(loc=mean,scale=std)"
   ]
  },
  {
   "cell_type": "markdown",
   "id": "e5029245",
   "metadata": {
    "slideshow": {
     "slide_type": "subslide"
    }
   },
   "source": [
    "Au départ, l'environnement est initialisé avec sept distributions identiques, choisies comme étant une distribution normale avec $\\mu = 50$, $\\sigma = 20$."
   ]
  },
  {
   "cell_type": "code",
   "execution_count": 19,
   "id": "ba013382",
   "metadata": {
    "slideshow": {
     "slide_type": "slide"
    }
   },
   "outputs": [],
   "source": [
    "class NewsvendorEnv(gym.Env):\n",
    "    \n",
    "    def __init__(self, dist=[(50,20)] * 7, cost=5, profit=2, numWeeks=30, maxDemand=100):\n",
    "        self.cost = cost\n",
    "        self.profit = profit\n",
    "        self.N = numWeeks\n",
    "        self.M = maxDemand\n",
    "        self.day = 0\n",
    "        self.law = stat.norm\n",
    "        self.dist = dist\n",
    "        \n",
    "        self.action_space = spaces.Discrete(self.M + 1)\n",
    "        self.observation_space = spaces.Discrete(7)\n",
    "        \n",
    "    def step(self, action):\n",
    "    # def step(self, action: ActType) -> Tuple[ObsType, float, bool, bool, dict]:\n",
    "        m, s = self.dist[self.day % 7]\n",
    "        demand = int(self.law.rvs(loc=m, scale=s))\n",
    "        demand = min(max(demand, 0), self.M)\n",
    "        ordered = min(max(action, 0), self.M)\n",
    "        \n",
    "        sold = min(ordered , demand)\n",
    "        unsold = ordered - sold\n",
    "        profit = sold * self.profit - unsold * self.cost\n",
    "        \n",
    "        done = self.day // 7 >= self.N\n",
    "        self.day += 1\n",
    "        return self.day, profit, done, {}\n",
    "    \n",
    "    def reset(self):\n",
    "    # def reset(self, *, seed: Optional[int] = None, options: Optional[dict] = None,) -> Tuple[ObsType, dict]:\n",
    "        self.day = 0\n",
    "        return self.day\n",
    "    \n",
    "    def render(self, mode='human'):\n",
    "        pass\n",
    "    \n",
    "    def close(self):\n",
    "        pass"
   ]
  },
  {
   "cell_type": "markdown",
   "id": "e62a8181",
   "metadata": {
    "slideshow": {
     "slide_type": "slide"
    }
   },
   "source": [
    "Une fois l'environnement déclaré, il est possible de vérifier son intégrité et s'assurer qu'il est conforme à l'API:"
   ]
  },
  {
   "cell_type": "code",
   "execution_count": 20,
   "id": "a1db3180",
   "metadata": {
    "scrolled": true,
    "slideshow": {
     "slide_type": "subslide"
    }
   },
   "outputs": [],
   "source": [
    "env = NewsvendorEnv()\n",
    "check_env(env)"
   ]
  },
  {
   "cell_type": "markdown",
   "id": "9015767f",
   "metadata": {
    "slideshow": {
     "slide_type": "slide"
    }
   },
   "source": [
    "## Utiliser son environnement\n",
    "\n"
   ]
  },
  {
   "cell_type": "code",
   "execution_count": 21,
   "id": "8a5d7a7e",
   "metadata": {
    "slideshow": {
     "slide_type": "subslide"
    }
   },
   "outputs": [],
   "source": [
    "def random(episodes=300):\n",
    "    stats = {\"Returns\" : []}\n",
    "    dist = [(50,20),(50,10),(30,10),(50,20),(50,10),(80,0),(90,0)]\n",
    "    env = NewsvendorEnv(dist=dist)\n",
    "    for episode in range(1, episodes+1):\n",
    "        state = env.reset()\n",
    "        done = False\n",
    "        ep_return = 0\n",
    "        while not done:\n",
    "            action = env.action_space.sample()\n",
    "            next_state, reward, done, _ = env.step(action)\n",
    "            state = next_state\n",
    "            ep_return += reward\n",
    "        stats[\"Returns\"].append(ep_return)\n",
    "    return stats\n"
   ]
  },
  {
   "cell_type": "code",
   "execution_count": 22,
   "id": "3a721380",
   "metadata": {},
   "outputs": [
    {
     "data": {
      "image/png": "[encoded data removed]",
      "text/plain": [
       "<Figure size 1200x600 with 1 Axes>"
      ]
     },
     "metadata": {},
     "output_type": "display_data"
    }
   ],
   "source": [
    "stats = random()\n",
    "plot_stats(stats)"
   ]
  },
  {
   "cell_type": "markdown",
   "id": "70ef5a69",
   "metadata": {
    "slideshow": {
     "slide_type": "skip"
    }
   },
   "source": [
    "## Faire évoluer l'environnement"
   ]
  }
 ],
 "metadata": {
  "celltoolbar": "Diaporama",
  "kernelspec": {
   "display_name": "Python 3",
   "language": "python",
   "name": "python3"
  },
  "language_info": {
   "codemirror_mode": {
    "name": "ipython",
    "version": 3
   },
   "file_extension": ".py",
   "mimetype": "text/x-python",
   "name": "python",
   "nbconvert_exporter": "python",
   "pygments_lexer": "ipython3",
   "version": "3.11.1"
  },
  "vscode": {
   "interpreter": {
    "hash": "aee8b7b246df8f9039afb4144a1f6fd8d2ca17a180786b69acc140d282b71a49"
   }
  }
 },
 "nbformat": 4,
 "nbformat_minor": 5
}
