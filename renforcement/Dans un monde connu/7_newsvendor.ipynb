{
 "cells": [
  {
   "cell_type": "markdown",
   "id": "aefd034b",
   "metadata": {
    "slideshow": {
     "slide_type": "slide"
    }
   },
   "source": [
    "## Création d'un environnement\n",
    "\n",
    "Dans ce notebook nous allons nous intéresser à la création d'un environnement."
   ]
  },
  {
   "cell_type": "markdown",
   "id": "0ee93f1e",
   "metadata": {
    "slideshow": {
     "slide_type": "fragment"
    }
   },
   "source": [
    "Créer un environnement est une étape nécessaire à l'entrainement d'agents destinés à résoudre un problème particulier."
   ]
  },
  {
   "cell_type": "markdown",
   "id": "08d97be3",
   "metadata": {
    "slideshow": {
     "slide_type": "subslide"
    }
   },
   "source": [
    "Jusqu'à présent, nous nous sommes basés sur un environnement déjà existant donc l'objectif était principalement pédagogique. Cependant, si vous devez mettre en pratique vos connaissances en apprentissage par renforcement il est probable que vous ayez à le faire sur un problème non répertorié. "
   ]
  },
  {
   "cell_type": "markdown",
   "id": "9313ec91",
   "metadata": {
    "slideshow": {
     "slide_type": "subslide"
    }
   },
   "source": [
    "Nous allons donc nous pencher sur la bibliothèque  [`gym`](https://www.gymlibrary.dev/), qui propose non seulement des environnements directement utilisables mais également de quoi concevoir le sien."
   ]
  },
  {
   "cell_type": "markdown",
   "id": "d8bc64d0",
   "metadata": {
    "slideshow": {
     "slide_type": "slide"
    }
   },
   "source": [
    "## Gestion des imports"
   ]
  },
  {
   "cell_type": "code",
   "execution_count": null,
   "id": "cf58295f",
   "metadata": {
    "slideshow": {
     "slide_type": "subslide"
    }
   },
   "outputs": [],
   "source": [
    "import gym\n",
    "from gym import spaces\n",
    "from gym.utils.env_checker import check_env\n",
    "import matplotlib.pyplot as plt\n",
    "import numpy as np\n",
    "from bucket_env import plot_stats\n",
    "%matplotlib inline"
   ]
  },
  {
   "cell_type": "markdown",
   "id": "d7ff6b39",
   "metadata": {
    "slideshow": {
     "slide_type": "slide"
    }
   },
   "source": [
    "# Le problème du vendeur de journaux\n",
    "\n",
    "<img src=\"images/newsvendor.png\" alt=\"image\" width=\"200\"/>"
   ]
  },
  {
   "cell_type": "markdown",
   "id": "86c21893",
   "metadata": {
    "slideshow": {
     "slide_type": "subslide"
    }
   },
   "source": [
    "## Définition\n",
    "\n",
    "Ce problème est une généralisation du problème de gestion de stock simple dit du \"vendeur de journaux\" (largement utilisé pour introduire les principaux outils et techniques de la programmation stochastique). \n"
   ]
  },
  {
   "cell_type": "markdown",
   "id": "14ec64e2",
   "metadata": {
    "slideshow": {
     "slide_type": "subslide"
    }
   },
   "source": [
    "Supposons que vous êtes un vendeur de journaux et que chaque jour de la semaine $j$, et ce, pendant $N$ semaines, vous devez décider du nombre de journaux à commander, $x_j$. La demande quotidienne de revues, $d_j$, est une variable aléatoire dont la distribution est *a priori* inconnue. On supposera qu'elle est au maximum de $M$. Le coût de commande d'un journal est $c$, le profit lié à la vente d'un journal est $p$. Il n'y a pas de coût de stock, les invendus sont jetés. \n",
    "\n",
    "Votre objectif est de commander la bonne quantité chaque jour de façon à maximiser votre profit.\n"
   ]
  },
  {
   "cell_type": "markdown",
   "id": "ec5878c8",
   "metadata": {
    "slideshow": {
     "slide_type": "subslide"
    }
   },
   "source": [
    "Pour démarrer, nous allons considérer les valeurs suivantes: \n",
    "- $N = 30$\n",
    "- $M = 100$\n",
    "- $c = 5$\n",
    "- $p = 2$\n"
   ]
  },
  {
   "cell_type": "markdown",
   "id": "20d1bcbd",
   "metadata": {
    "slideshow": {
     "slide_type": "subslide"
    }
   },
   "source": [
    "Le profit d'une journée est calculé par la formule suivante: $$v_j \\times p - i_j \\times c$$ où:\n",
    "- $v_j$ est la quantité de journaux vendus,\n",
    "- $i_j$ est la quantité de journaux non vendus. \n",
    "\n",
    "Ces quantités sont déterminées en fonction de $d_j$ et $x_j$."
   ]
  },
  {
   "cell_type": "markdown",
   "id": "e43abae5",
   "metadata": {
    "slideshow": {
     "slide_type": "slide"
    }
   },
   "source": [
    "## L'environnement `gym.Env`\n",
    "\n",
    "#### Les méthodes\n",
    "\n",
    "Un environnement, tel que défini par la bibliothèque `gym` est composé de 4 fonctions principales:\n"
   ]
  },
  {
   "cell_type": "markdown",
   "id": "dc6ef44d",
   "metadata": {
    "slideshow": {
     "slide_type": "subslide"
    }
   },
   "source": [
    "- `step` :  Effectue une étape dans l'environnement en utilisant une action qui renvoie la prochaine observation, la récompense si l'environnement s'est terminé et des informations sur l'observation."
   ]
  },
  {
   "cell_type": "markdown",
   "id": "743fbbfd",
   "metadata": {
    "slideshow": {
     "slide_type": "subslide"
    }
   },
   "source": [
    "- `reset` : Réinitialise l'environnement à un état initial, en renvoyant l'observation initiale et les informations d'observation."
   ]
  },
  {
   "cell_type": "markdown",
   "id": "de617c5d",
   "metadata": {
    "slideshow": {
     "slide_type": "subslide"
    }
   },
   "source": [
    "- `render` : Produit le Rendu de l'observation de l'environnement avec des modes dépendants de la sortie."
   ]
  },
  {
   "cell_type": "markdown",
   "id": "b6941557",
   "metadata": {
    "slideshow": {
     "slide_type": "subslide"
    }
   },
   "source": [
    "- `close` - Ferme l'environnement, important pour le rendu lorsque pygame est importé."
   ]
  },
  {
   "cell_type": "markdown",
   "id": "d2074be7",
   "metadata": {
    "slideshow": {
     "slide_type": "fragment"
    }
   },
   "source": [
    "De plus, il est nécessaire de déclarer un constructeur, `__init__` afin de déclarer les variables de classe."
   ]
  },
  {
   "cell_type": "markdown",
   "id": "fafb7a3d",
   "metadata": {
    "slideshow": {
     "slide_type": "subslide"
    }
   },
   "source": [
    "#### Les attributs\n",
    "\n",
    "Un environnement dipose de plusieurs attributs, dont:\n",
    "\n",
    "- `action_space` : L'espace correspondant aux actions valides\n",
    "- `observation_space` : L'espace correspondant aux observations valides\n",
    "- `reward_range` : Un tuple correspondant à l'intervalle des récompenses possibles\n",
    "- `np_random` : Le générateur de nombres aléatoires pour l'environnement"
   ]
  },
  {
   "cell_type": "markdown",
   "id": "35359f07",
   "metadata": {
    "slideshow": {
     "slide_type": "slide"
    }
   },
   "source": [
    "## Les états possibles\n",
    "\n",
    "Le tuple renvoyé par retour des fonctions `step` et `reset` est composé de 4 éléments: l'**état courant**, la **récompense**, un booléen indiquant si un **état terminal** est atteint et un dictionnaire d'informations additionnelles.\n"
   ]
  },
  {
   "cell_type": "markdown",
   "id": "ee688966",
   "metadata": {
    "slideshow": {
     "slide_type": "subslide"
    }
   },
   "source": [
    "Dans le cas du vendeur de journaux:"
   ]
  },
  {
   "cell_type": "markdown",
   "id": "d6163de9",
   "metadata": {
    "slideshow": {
     "slide_type": "fragment"
    }
   },
   "source": [
    "- l'état est constitué d'un entier représentant le jour de la semaine ($0$: lundi)"
   ]
  },
  {
   "cell_type": "markdown",
   "id": "01284ed6",
   "metadata": {
    "slideshow": {
     "slide_type": "fragment"
    }
   },
   "source": [
    "- la récompense est le résultat du profit quotidien"
   ]
  },
  {
   "cell_type": "markdown",
   "id": "11fa6b18",
   "metadata": {
    "slideshow": {
     "slide_type": "fragment"
    }
   },
   "source": [
    "- l'état terminal est atteint quand les 30 semaines sont écoulées"
   ]
  },
  {
   "cell_type": "markdown",
   "id": "ddd681bb",
   "metadata": {
    "slideshow": {
     "slide_type": "fragment"
    }
   },
   "source": [
    "- le dictionnaire sera toujours vide, `{}`"
   ]
  },
  {
   "cell_type": "markdown",
   "id": "98403d5b",
   "metadata": {
    "slideshow": {
     "slide_type": "subslide"
    }
   },
   "source": [
    "Nous déclarerons également l'espace des états, `spaces.Discrete(7)`, comme les 7 jours de la semaine."
   ]
  },
  {
   "cell_type": "markdown",
   "id": "681dc6af",
   "metadata": {
    "slideshow": {
     "slide_type": "slide"
    }
   },
   "source": [
    "## Les actions possibles\n",
    "\n",
    "La méthode `step` prend en paramètre un objet `action` représentant l'action à appliquer dans l'état courant.\n",
    "\n",
    "Dans le cas du vendeur de journaux:\n"
   ]
  },
  {
   "cell_type": "markdown",
   "id": "ced3f1ec",
   "metadata": {},
   "source": [
    "- l'action correspond au nombre de journaux commandés"
   ]
  },
  {
   "cell_type": "markdown",
   "id": "279c8f9d",
   "metadata": {},
   "source": [
    "Nous déclarerons également l'espace des actions, `spaces.Discrete(100)`."
   ]
  },
  {
   "cell_type": "markdown",
   "id": "dbdb3e99",
   "metadata": {
    "slideshow": {
     "slide_type": "slide"
    }
   },
   "source": [
    "## Les variables d'instance\n",
    "\n",
    "Afin de restituer des états cohérents, il est nécessaire de créer et manipuler lors des appels aux méthodes `__init__`, `reset` et `step` des variables d'instances. Cela va être utile pour déterminer si un état est terminal, pour calculer la récompense ou valider l'action."
   ]
  },
  {
   "cell_type": "markdown",
   "id": "e291f9a1",
   "metadata": {
    "slideshow": {
     "slide_type": "subslide"
    }
   },
   "source": [
    "Dans le cas du vendeur de journaux, il faut dans un premier temps déclarer les variables $c$, $p$, $N$ et $M$."
   ]
  },
  {
   "cell_type": "markdown",
   "id": "02f33de2",
   "metadata": {
    "slideshow": {
     "slide_type": "subslide"
    }
   },
   "source": [
    "Nous considérons aussi que la demande varie en fonction du jour de la semaine. \n",
    "Une manière de faire est de tirer aléatoirement la valeur dans l'intervalle $[0, M]$ avec `numpy.random`. \n",
    "Seulement, il n'est pas possible de d'indiquer que la demande fluctue avec le jour."
   ]
  },
  {
   "cell_type": "markdown",
   "id": "edbab3f0",
   "metadata": {
    "slideshow": {
     "slide_type": "subslide"
    }
   },
   "source": [
    "Pour ce faire, nous allons reposer sur la librairie `import scipy.stats` qui va nous permettre de générer des variables aléatoire sur la base d'une loi de distribution, par exemple la loi normale, et la configurer avec une moyenne et un écart-type."
   ]
  },
  {
   "cell_type": "code",
   "execution_count": null,
   "id": "9d86982a",
   "metadata": {
    "slideshow": {
     "slide_type": "fragment"
    }
   },
   "outputs": [],
   "source": [
    "import scipy.stats as stat"
   ]
  },
  {
   "cell_type": "code",
   "execution_count": null,
   "id": "70b64954",
   "metadata": {
    "slideshow": {
     "slide_type": "fragment"
    }
   },
   "outputs": [],
   "source": [
    "mean = 50 # moyenne\n",
    "std = 20 # écart-type\n",
    "stat.norm.rvs(loc=mean,scale=std)"
   ]
  },
  {
   "cell_type": "markdown",
   "id": "e5029245",
   "metadata": {
    "slideshow": {
     "slide_type": "subslide"
    }
   },
   "source": [
    "Au départ, l'environnement est initialisé avec sept distributions identiques, choisies comme étant une distribution normale avec $\\mu = 50$, $\\sigma = 20$."
   ]
  },
  {
   "cell_type": "code",
   "execution_count": null,
   "id": "ba013382",
   "metadata": {
    "slideshow": {
     "slide_type": "slide"
    }
   },
   "outputs": [],
   "source": [
    "class NewsvendorEnv(gym.Env):\n",
    "    \n",
    "    def __init__(self, distributions=[(50, 20),(50, 20),(50, 20),(50, 20),(50, 20),(50, 20),(50, 20)], \n",
    "                 profit=2, cost=5, numWeeks=30, maxDemand=100):\n",
    "        self.law = stat.norm\n",
    "        # (mean, std)\n",
    "        self.args = distributions\n",
    "        self.day = 0 # on commence le lundi\n",
    "        self.unit_profit = profit\n",
    "        self.unit_cost = cost\n",
    "        self.numWeeks = numWeeks\n",
    "        self.maxDemand = maxDemand\n",
    "        self.action_space = spaces.Discrete(self.maxDemand)\n",
    "        self.observation_space = spaces.Discrete(7)\n",
    "    \n",
    "    def step(self, action):\n",
    "        # Sample from a demand distribution \n",
    "        # Make sure both the demand and action\n",
    "        # are integers within the acceptable range\n",
    "        m, s = self.args[self.day % 7]\n",
    "        demand = min(self.maxDemand, max(0, int(self.law.rvs(loc=m,scale=s))))\n",
    "        action = min(self.maxDemand, max(0, action))\n",
    "\n",
    "        # Calculate the net profit the agent generated for this timestep\n",
    "        sold = min(demand, action)\n",
    "        unsold = action - sold\n",
    "        profit = sold * self.unit_profit - unsold * self.unit_cost\n",
    "\n",
    "        done = (self.day // 7 >= self.numWeeks)\n",
    "        self.day += 1\n",
    "\n",
    "        return self.day % 7, profit, done, {}\n",
    "    \n",
    "    def reset(self):\n",
    "        self.day = 0\n",
    "        return self.day\n",
    "    \n",
    "    def render(self, mode='human'):\n",
    "        pass\n",
    "    \n",
    "    def close(self):\n",
    "        pass\n",
    "    "
   ]
  },
  {
   "cell_type": "markdown",
   "id": "e62a8181",
   "metadata": {
    "slideshow": {
     "slide_type": "slide"
    }
   },
   "source": [
    "Une fois l'environnement déclaré, il est possible de vérifier son intégrité et s'assurer qu'il est conforme à l'API:"
   ]
  },
  {
   "cell_type": "code",
   "execution_count": null,
   "id": "a1db3180",
   "metadata": {
    "slideshow": {
     "slide_type": "subslide"
    }
   },
   "outputs": [],
   "source": [
    "env = NewsvendorEnv()\n",
    "check_env(env)"
   ]
  },
  {
   "cell_type": "markdown",
   "id": "9015767f",
   "metadata": {
    "slideshow": {
     "slide_type": "slide"
    }
   },
   "source": [
    "## Utiliser son environnement\n",
    "\n"
   ]
  },
  {
   "cell_type": "code",
   "execution_count": null,
   "id": "c3f8c225",
   "metadata": {
    "slideshow": {
     "slide_type": "subslide"
    }
   },
   "outputs": [],
   "source": [
    "def random_run(episodes=300):\n",
    "    print(f'Random run')\n",
    "    dist = [ (50, 5), (50, 10), (50, 20), (30, 5), (70, 0), (80, 0), (90, 0)]\n",
    "    env = NewsvendorEnv(distributions=dist,profit=10, cost=5)\n",
    "    stats = {\"Rewards\" : []}\n",
    "    for e in range(1, episodes + 1):\n",
    "        done = False\n",
    "        total_reward = 0\n",
    "        state = env.reset()\n",
    "        while not done:\n",
    "            action = env.action_space.sample()\n",
    "            state, reward, done, _ = env.step(action)\n",
    "            total_reward += reward\n",
    "            if done:\n",
    "                #print(f'Got ${total_reward} at the end the month')\n",
    "                break\n",
    "            env.close()\n",
    "        stats['Rewards'].append(total_reward/(30*7))\n",
    "    return stats"
   ]
  },
  {
   "cell_type": "code",
   "execution_count": null,
   "id": "e3a6a81f",
   "metadata": {
    "slideshow": {
     "slide_type": "subslide"
    }
   },
   "outputs": [],
   "source": [
    "stats = random_run()"
   ]
  },
  {
   "cell_type": "code",
   "execution_count": null,
   "id": "33ad2303",
   "metadata": {
    "slideshow": {
     "slide_type": "subslide"
    }
   },
   "outputs": [],
   "source": [
    "plot_stats(stats)"
   ]
  }
 ],
 "metadata": {
  "celltoolbar": "Diaporama",
  "kernelspec": {
   "display_name": "Python 3 (ipykernel)",
   "language": "python",
   "name": "python3"
  },
  "language_info": {
   "codemirror_mode": {
    "name": "ipython",
    "version": 3
   },
   "file_extension": ".py",
   "mimetype": "text/x-python",
   "name": "python",
   "nbconvert_exporter": "python",
   "pygments_lexer": "ipython3",
   "version": "3.9.7"
  }
 },
 "nbformat": 4,
 "nbformat_minor": 5
}
