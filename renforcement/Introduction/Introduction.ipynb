{
 "cells": [
  {
   "cell_type": "markdown",
   "metadata": {
    "slideshow": {
     "slide_type": "slide"
    }
   },
   "source": [
    "## Prise en main de l'environnement\n",
    "\n",
    "Dans ce notebook nous allons découvrir les différents aspects de l'environnement.\n",
    "En particulier, nous allons nous familiariser avec OpenAI Gym.\n"
   ]
  },
  {
   "cell_type": "markdown",
   "metadata": {
    "slideshow": {
     "slide_type": "subslide"
    }
   },
   "source": [
    "## Gérer les imports"
   ]
  },
  {
   "cell_type": "code",
   "execution_count": 1,
   "metadata": {
    "slideshow": {
     "slide_type": "fragment"
    }
   },
   "outputs": [
    {
     "name": "stdout",
     "output_type": "stream",
     "text": [
      "pygame 2.1.4.dev1 (SDL 2.26.0, Python 3.11.1)\n",
      "Hello from the pygame community. https://www.pygame.org/contribute.html\n"
     ]
    },
    {
     "name": "stderr",
     "output_type": "stream",
     "text": [
      "objc[70865]: Class SDLApplication is implemented in both /opt/local/lib/libSDL2-2.0.0.dylib (0x11b3907c0) and /opt/homebrew/Cellar/sdl2/2.26.1/lib/libSDL2-2.0.0.dylib (0x11ef54800). One of the two will be used. Which one is undefined.\n",
      "objc[70865]: Class SDLAppDelegate is implemented in both /opt/local/lib/libSDL2-2.0.0.dylib (0x11b390810) and /opt/homebrew/Cellar/sdl2/2.26.1/lib/libSDL2-2.0.0.dylib (0x11ef54850). One of the two will be used. Which one is undefined.\n",
      "objc[70865]: Class SDLTranslatorResponder is implemented in both /opt/local/lib/libSDL2-2.0.0.dylib (0x11b390888) and /opt/homebrew/Cellar/sdl2/2.26.1/lib/libSDL2-2.0.0.dylib (0x11ef548c8). One of the two will be used. Which one is undefined.\n",
      "objc[70865]: Class SDLMessageBoxPresenter is implemented in both /opt/local/lib/libSDL2-2.0.0.dylib (0x11b3908b0) and /opt/homebrew/Cellar/sdl2/2.26.1/lib/libSDL2-2.0.0.dylib (0x11ef548f0). One of the two will be used. Which one is undefined.\n",
      "objc[70865]: Class SDL_cocoametalview is implemented in both /opt/local/lib/libSDL2-2.0.0.dylib (0x11b390900) and /opt/homebrew/Cellar/sdl2/2.26.1/lib/libSDL2-2.0.0.dylib (0x11ef54940). One of the two will be used. Which one is undefined.\n",
      "objc[70865]: Class SDLOpenGLContext is implemented in both /opt/local/lib/libSDL2-2.0.0.dylib (0x11b390950) and /opt/homebrew/Cellar/sdl2/2.26.1/lib/libSDL2-2.0.0.dylib (0x11ef54990). One of the two will be used. Which one is undefined.\n",
      "objc[70865]: Class SDL_ShapeData is implemented in both /opt/local/lib/libSDL2-2.0.0.dylib (0x11b3909c8) and /opt/homebrew/Cellar/sdl2/2.26.1/lib/libSDL2-2.0.0.dylib (0x11ef54a08). One of the two will be used. Which one is undefined.\n",
      "objc[70865]: Class SDL_CocoaClosure is implemented in both /opt/local/lib/libSDL2-2.0.0.dylib (0x11b390a18) and /opt/homebrew/Cellar/sdl2/2.26.1/lib/libSDL2-2.0.0.dylib (0x11ef54a58). One of the two will be used. Which one is undefined.\n",
      "objc[70865]: Class SDL_VideoData is implemented in both /opt/local/lib/libSDL2-2.0.0.dylib (0x11b390a68) and /opt/homebrew/Cellar/sdl2/2.26.1/lib/libSDL2-2.0.0.dylib (0x11ef54aa8). One of the two will be used. Which one is undefined.\n",
      "objc[70865]: Class SDL_WindowData is implemented in both /opt/local/lib/libSDL2-2.0.0.dylib (0x11b390ab8) and /opt/homebrew/Cellar/sdl2/2.26.1/lib/libSDL2-2.0.0.dylib (0x11ef54af8). One of the two will be used. Which one is undefined.\n",
      "objc[70865]: Class SDLWindow is implemented in both /opt/local/lib/libSDL2-2.0.0.dylib (0x11b390ae0) and /opt/homebrew/Cellar/sdl2/2.26.1/lib/libSDL2-2.0.0.dylib (0x11ef54b20). One of the two will be used. Which one is undefined.\n",
      "objc[70865]: Class Cocoa_WindowListener is implemented in both /opt/local/lib/libSDL2-2.0.0.dylib (0x11b390b08) and /opt/homebrew/Cellar/sdl2/2.26.1/lib/libSDL2-2.0.0.dylib (0x11ef54b48). One of the two will be used. Which one is undefined.\n",
      "objc[70865]: Class SDLView is implemented in both /opt/local/lib/libSDL2-2.0.0.dylib (0x11b390b80) and /opt/homebrew/Cellar/sdl2/2.26.1/lib/libSDL2-2.0.0.dylib (0x11ef54bc0). One of the two will be used. Which one is undefined.\n",
      "objc[70865]: Class METAL_RenderData is implemented in both /opt/local/lib/libSDL2-2.0.0.dylib (0x11b390bf8) and /opt/homebrew/Cellar/sdl2/2.26.1/lib/libSDL2-2.0.0.dylib (0x11ef54c38). One of the two will be used. Which one is undefined.\n",
      "objc[70865]: Class METAL_TextureData is implemented in both /opt/local/lib/libSDL2-2.0.0.dylib (0x11b390c48) and /opt/homebrew/Cellar/sdl2/2.26.1/lib/libSDL2-2.0.0.dylib (0x11ef54c88). One of the two will be used. Which one is undefined.\n",
      "objc[70865]: Class SDL_RumbleMotor is implemented in both /opt/local/lib/libSDL2-2.0.0.dylib (0x11b390c70) and /opt/homebrew/Cellar/sdl2/2.26.1/lib/libSDL2-2.0.0.dylib (0x11ef54cb0). One of the two will be used. Which one is undefined.\n",
      "objc[70865]: Class SDL_RumbleContext is implemented in both /opt/local/lib/libSDL2-2.0.0.dylib (0x11b390cc0) and /opt/homebrew/Cellar/sdl2/2.26.1/lib/libSDL2-2.0.0.dylib (0x11ef54d00). One of the two will be used. Which one is undefined.\n"
     ]
    }
   ],
   "source": [
    "import gym\n",
    "import time\n",
    "import matplotlib.pyplot as plt\n",
    "import numpy as np\n",
    "from IPython import display\n",
    "\n",
    "from bucket_env import BucketEnv3\n",
    "from bucket_env import rendering\n",
    "%matplotlib inline"
   ]
  },
  {
   "cell_type": "markdown",
   "metadata": {
    "slideshow": {
     "slide_type": "slide"
    }
   },
   "source": [
    "## Initialiser l'environnement\n",
    "Pour créer l'environnement, il faut simplement créer une instance de `BucketEnv3`"
   ]
  },
  {
   "cell_type": "code",
   "execution_count": 4,
   "metadata": {
    "slideshow": {
     "slide_type": "fragment"
    }
   },
   "outputs": [],
   "source": [
    "env = BucketEnv3()"
   ]
  },
  {
   "cell_type": "markdown",
   "metadata": {
    "slideshow": {
     "slide_type": "subslide"
    }
   },
   "source": [
    "###### env.reset()\n",
    "Cette méthode positionne l'environnement dans son état initial et le renvoie de manière à ce que l'agent puisse l'observer."
   ]
  },
  {
   "cell_type": "code",
   "execution_count": 3,
   "metadata": {
    "slideshow": {
     "slide_type": "fragment"
    }
   },
   "outputs": [
    {
     "data": {
      "text/plain": [
       "(0, 0, 0)"
      ]
     },
     "execution_count": 3,
     "metadata": {},
     "output_type": "execute_result"
    }
   ],
   "source": [
    "env.reset()"
   ]
  },
  {
   "cell_type": "markdown",
   "metadata": {
    "slideshow": {
     "slide_type": "subslide"
    }
   },
   "source": [
    "#### env.render()\n",
    "Cette méthode génère une image qui représente l'état courant de l'environnement, sous la forme d'un `np.darray`"
   ]
  },
  {
   "cell_type": "code",
   "execution_count": 14,
   "metadata": {},
   "outputs": [],
   "source": [
    "def displayEnv(env):\n",
    "    frame = env.render(mode='rgb_array')\n",
    "    plt.axis('off')\n",
    "    plt.title('Env')\n",
    "    plt.imshow(frame)   "
   ]
  },
  {
   "cell_type": "markdown",
   "metadata": {
    "scrolled": true
   },
   "source": [
    "Ce dossier contient les éléments nécessaires à la réalisation du projet d'apprentissage par renforcement de l'UE AAA.\n",
    "\n",
    "Déroulé du cours\n",
    "Ce module se déroule en deux temps:\n",
    "\n",
    "La première séance est consacrée aux apports théoriques de l'apprentissage par renforcement ainsi que la prise en main de l'environnement d'étude,\n",
    "La seconde séance sera consacrée à l'implémentation d'algorithmes de RL.\n",
    "Préparation de l'environnement de travail\n",
    "Votre travail se fera sur des Notebooks Jupyter, en utilisant différentes packages Python.\n",
    "\n",
    "Il va donc être nécessaire d'avoir une version récente de Python et de pip, le gestionnaire de paquet.\n",
    "\n",
    "Vous pouvez suivre les instructions suivantes pour installer l'un ou l'autre:\n",
    "\n",
    "Installer la dernière version de Python \n",
    "Installer pip\n",
    "Une fois Python et pip installés, vous devez executer la ligne suivante dans un terminal:\n",
    "\n",
    "    pip install matplotlib numpy tqdm jupyter gym==0.21.0\n",
    "\n",
    "Ensuite, vous devez télécharger l'archive nommée ProjetRL2022.zip et la décompresser dans le dossier de votre choix.\n",
    "\n",
    "Puis, ouvrez un terminal et rendez vous dans le dossier nouvellement créé et lancez la commande suivante:\n",
    "\n",
    "    jupyter notebook\n",
    "\n",
    "Une nouvelle fenêtre de votre navigateur s'ouvre affichant le contenu du dossier."
   ]
  },
  {
   "cell_type": "code",
   "execution_count": null,
   "metadata": {
    "slideshow": {
     "slide_type": "fragment"
    }
   },
   "outputs": [],
   "source": [
    "\n"
   ]
  },
  {
   "cell_type": "markdown",
   "metadata": {
    "slideshow": {
     "slide_type": "subslide"
    }
   },
   "source": [
    "#### env.step()\n",
    "Cette méthode applique une action choisie par l'agent dans l'environnement, pour le modifier. En réponse, l'environnement renvoie un tuple de quatre objets:\n",
    "- l'état suivant,\n",
    "- la récompense obtenue,\n",
    "- (bool) si la tâche est accomplie\n",
    "- n'importe quelles autres informations pertinentes dans un dictionnaire "
   ]
  },
  {
   "cell_type": "code",
   "execution_count": 15,
   "metadata": {
    "slideshow": {
     "slide_type": "subslide"
    }
   },
   "outputs": [
    {
     "data": {
      "text/plain": [
       "((0, 2, 0), 1.0, False, {})"
      ]
     },
     "execution_count": 15,
     "metadata": {},
     "output_type": "execute_result"
    }
   ],
   "source": [
    "env.reset()\n",
    "action = np.random.choice(5)\n",
    "env.step(action)"
   ]
  },
  {
   "cell_type": "markdown",
   "metadata": {
    "slideshow": {
     "slide_type": "subslide"
    }
   },
   "source": [
    "###### Afficher le nouvel état"
   ]
  },
  {
   "cell_type": "code",
   "execution_count": 46,
   "metadata": {
    "slideshow": {
     "slide_type": "fragment"
    }
   },
   "outputs": [
    {
     "data": {
      "text/plain": [
       "<matplotlib.image.AxesImage at 0x16308bf50>"
      ]
     },
     "execution_count": 46,
     "metadata": {},
     "output_type": "execute_result"
    },
    {
     "data": {
      "image/png": "[encoded data removed]",
      "text/plain": [
       "<Figure size 640x480 with 1 Axes>"
      ]
     },
     "metadata": {},
     "output_type": "display_data"
    }
   ],
   "source": [
    "frame = env.render()\n",
    "plt.axis('off')\n",
    "plt.imshow(frame)"
   ]
  },
  {
   "cell_type": "markdown",
   "metadata": {
    "slideshow": {
     "slide_type": "subslide"
    }
   },
   "source": [
    "#### env.close()\n",
    "Cela termine la tâche et ferme l'environnement, libérant les ressources."
   ]
  },
  {
   "cell_type": "code",
   "execution_count": 47,
   "metadata": {
    "slideshow": {
     "slide_type": "fragment"
    }
   },
   "outputs": [],
   "source": [
    "env.close()"
   ]
  },
  {
   "cell_type": "markdown",
   "metadata": {
    "slideshow": {
     "slide_type": "slide"
    }
   },
   "source": [
    "## L'environnement Bucket : placer des colis"
   ]
  },
  {
   "cell_type": "markdown",
   "metadata": {
    "slideshow": {
     "slide_type": "subslide"
    }
   },
   "source": [
    "Dans cette section, nous allons nous familiariser avec l'environnement que nous allons utiliser. Cet environnement est pratique pour apprendre les bases de l'apprentissage par renforcement parce que:\n",
    "- il offre peu d'actions (5)\n",
    "- les transitions entre les états sont déterministes ($p(s', r| s, a) = 1$)\n",
    "- les récompenses sont proportionnelles au nombre de colis placés\n",
    "- l'espace des états est relativement faible ($7^3 = 343$)"
   ]
  },
  {
   "cell_type": "markdown",
   "metadata": {
    "slideshow": {
     "slide_type": "subslide"
    }
   },
   "source": [
    "Nous allons pouvoir utiliser les concepts suivants:\n",
    "- états et espace d'états\n",
    "- actions et espace d'actions\n",
    "- trajectoires et épisodes\n",
    "- récompenses et gains\n",
    "- politique"
   ]
  },
  {
   "cell_type": "markdown",
   "metadata": {
    "slideshow": {
     "slide_type": "subslide"
    }
   },
   "source": [
    "Cet environnement représente un carton de 3 x 5 (l x h), dans lequel le but de l'agent est de placer le plus de colis possible. \n",
    "\n",
    "Tous les colis sont identiques: un rectangle de dimension (l x h): 1 x 2.\n",
    "L'orientation d'un colis se fait par rapport à un cube de référence.\n",
    "Ce colis dispose de deux orientations possibles:\n",
    "- 0 : (l x h): 1 x 2, le cube de référence est en (0,0),\n",
    "- 1: (l x h): 2 x 1, le cube de référence est en (0,0).\n",
    "\n",
    "L'objectif est de placer 7 colis dans le carton.\n"
   ]
  },
  {
   "cell_type": "markdown",
   "metadata": {
    "slideshow": {
     "slide_type": "subslide"
    }
   },
   "source": [
    "#### Création de l'environnement"
   ]
  },
  {
   "cell_type": "code",
   "execution_count": 53,
   "metadata": {
    "slideshow": {
     "slide_type": "fragment"
    }
   },
   "outputs": [],
   "source": [
    "env = BucketEnv3()"
   ]
  },
  {
   "cell_type": "markdown",
   "metadata": {
    "slideshow": {
     "slide_type": "subslide"
    }
   },
   "source": [
    "#### Etats et espace des états\n",
    "Le fond du carton est discrétisé en 15 cellules, pouvant prendre des valeurs dans l'intervalle [0,1]. La valeur d'une cellule représente son occupation par un colis.\n",
    "\n",
    "Un état est un tuple de 3 valeurs comprises dans l'intervalle [0,6] (mais seules les valeurs < 5 sont intéressantes)."
   ]
  },
  {
   "cell_type": "markdown",
   "metadata": {
    "slideshow": {
     "slide_type": "subslide"
    }
   },
   "source": [
    "L'espace d'états est faible : $7^{3} = 343$, et en pratique, certains états ne sont jamais atteignables.\n",
    "En effet, il est considéré que les colis ne *volent* pas et repose forcément sur le fond du carton ou un autre colis (même partiellement). \n",
    "\n",
    "Les informations relatives à l'espace des états sont stockées dans `env.observation_space` qui est une instance de `MultiDiscrete([7 7 7])`. Cela indique qu'elle est composé de 3 éléments (les colonnes), chacun pouvant prendre 7 valeurs différentes."
   ]
  },
  {
   "cell_type": "code",
   "execution_count": 54,
   "metadata": {
    "slideshow": {
     "slide_type": "subslide"
    }
   },
   "outputs": [
    {
     "data": {
      "text/plain": [
       "MultiDiscrete([7 7 7])"
      ]
     },
     "execution_count": 54,
     "metadata": {},
     "output_type": "execute_result"
    }
   ],
   "source": [
    "env.observation_space"
   ]
  },
  {
   "cell_type": "markdown",
   "metadata": {
    "slideshow": {
     "slide_type": "subslide"
    }
   },
   "source": [
    "#### Actions et espace des actions\n",
    "Dans cet environnement, il y a 5 actions différentes, elle sont représentées par un entier:\n",
    "\n",
    "\\begin{equation}\n",
    "a \\in \\{0, 1, 2, 3, 4\\}\n",
    "\\end{equation}\n",
    "\n",
    "- 0 -> colis dans l'orientation 0 avec x = 0\n",
    "- 1 -> colis dans l'orientation 0 avec x = 1\n",
    "- 2 -> colis dans l'orientation 0 avec x = 2\n",
    "- 3 -> colis dans l'orientation 1 avec x = 0\n",
    "- 4 -> colis dans l'orientation 1 avec x = 1"
   ]
  },
  {
   "cell_type": "markdown",
   "metadata": {
    "slideshow": {
     "slide_type": "subslide"
    }
   },
   "source": [
    "Pour éxécuter une action, il suffit de passer l'entier correspondant à la méthode `env.step`.\n",
    "\n",
    "Les informations relatives à l'espace des actions sont stockées dans env.action_space qui est une instance de Discrete(5). Cela indique qu'elle définit l'intervalle [0,4]."
   ]
  },
  {
   "cell_type": "code",
   "execution_count": null,
   "metadata": {
    "slideshow": {
     "slide_type": "subslide"
    }
   },
   "outputs": [],
   "source": [
    "env.action_space"
   ]
  },
  {
   "cell_type": "markdown",
   "metadata": {
    "slideshow": {
     "slide_type": "subslide"
    }
   },
   "source": [
    "#### Trajectoires et épisodes\n",
    "Une trajectoire est une séquence générée en passant d'un état à un autre:\n",
    "\n",
    "\\begin{equation}\n",
    "  \\tau = S_0, A_0, R_1, S_1, A_1, ... R_N, S_N,\n",
    "\\end{equation}\n",
    "\n",
    "Par exemple, voici une trajectoire de 3 actions prises aléatoirement:"
   ]
  },
  {
   "cell_type": "code",
   "execution_count": 55,
   "metadata": {
    "slideshow": {
     "slide_type": "subslide"
    }
   },
   "outputs": [
    {
     "name": "stdout",
     "output_type": "stream",
     "text": [
      "La trajectoire est : [[(0, 0, 0), 4, 1.0, (0, 1, 1)], [(0, 1, 1), 2, 1.0, (0, 1, 3)], [(0, 1, 3), 3, 1.0, (2, 2, 3)]]\n"
     ]
    },
    {
     "data": {
      "image/png": "[encoded data removed]",
      "text/plain": [
       "<Figure size 640x480 with 1 Axes>"
      ]
     },
     "metadata": {},
     "output_type": "display_data"
    }
   ],
   "source": [
    "state = env.reset()\n",
    "trajectory = []\n",
    "for _ in range(3):\n",
    "    action = np.random.choice(5)\n",
    "    next_state, reward, done, _ = env.step(action)\n",
    "    trajectory.append([state,action,reward,next_state])\n",
    "    state = next_state\n",
    "print(f'La trajectoire est : {trajectory}')\n",
    "displayEnv(env)"
   ]
  },
  {
   "cell_type": "markdown",
   "metadata": {
    "slideshow": {
     "slide_type": "subslide"
    }
   },
   "source": [
    "Un épisode est une trajectoire qui part de l'état initial et atteint un état final:\n",
    "\n",
    "\\begin{equation}\n",
    "  \\tau = S_0, A_0, R_1, S_1, A_1, ... R_T, S_T,\n",
    "\\end{equation}\n",
    "où T est un état final.\n",
    "\n",
    "Par exemple, voici un épisode entier:"
   ]
  },
  {
   "cell_type": "code",
   "execution_count": 56,
   "metadata": {
    "slideshow": {
     "slide_type": "subslide"
    }
   },
   "outputs": [
    {
     "name": "stdout",
     "output_type": "stream",
     "text": [
      "[[(0, 0, 0), 0, 1.0, (2, 0, 0)], [(2, 0, 0), 1, 1.0, (2, 2, 0)], [(2, 2, 0), 4, 1.0, (2, 3, 3)], [(2, 3, 3), 1, 1.0, (2, 5, 3)], [(2, 5, 3), 1, 0.0, (2, 5, 3)]]\n"
     ]
    },
    {
     "data": {
      "image/png": "[encoded data removed]",
      "text/plain": [
       "<Figure size 640x480 with 1 Axes>"
      ]
     },
     "metadata": {},
     "output_type": "display_data"
    }
   ],
   "source": [
    "state = env.reset()\n",
    "episode = []\n",
    "done = False\n",
    "while not done:\n",
    "    action = np.random.choice(5)\n",
    "    next_state, reward, done, _ = env.step(action)\n",
    "    episode.append([state,action,reward,next_state])\n",
    "    state = next_state\n",
    "print(episode)\n",
    "displayEnv(env)"
   ]
  },
  {
   "cell_type": "markdown",
   "metadata": {
    "slideshow": {
     "slide_type": "subslide"
    }
   },
   "source": [
    "#### Récompenses et gains\n",
    "Une récompense est un valeur numérique renvoyé par l'environnement apès l'application d'une action *a* prise par l'agent dans l'état *s*:\n",
    "\n",
    "\\begin{equation}\n",
    "    r = r(s, a)\n",
    "\\end{equation}\n",
    "\n",
    "Par exemple, voici une récompense obtenue: "
   ]
  },
  {
   "cell_type": "code",
   "execution_count": 50,
   "metadata": {
    "slideshow": {
     "slide_type": "subslide"
    }
   },
   "outputs": [
    {
     "name": "stdout",
     "output_type": "stream",
     "text": [
      "1.0\n",
      "1.0\n"
     ]
    }
   ],
   "source": [
    "env.reset()\n",
    "_, reward, _, _ = env.step(1)\n",
    "print(reward)\n",
    "_, reward, _, _ = env.step(1)\n",
    "print(reward)"
   ]
  },
  {
   "cell_type": "markdown",
   "metadata": {
    "slideshow": {
     "slide_type": "subslide"
    }
   },
   "source": [
    "Le gain associé au temps *t* est la somme (pondérées) des récompenses que l'agent a obtenu jusqu'à ce moment.\n",
    "Il est possible de calculer $G_0$, c'est-à-dire le gain au début de l'épisode:\n",
    "\n",
    "\n",
    "\\begin{equation}\n",
    "    G_0 = R_1 + \\gamma R_2 + \\gamma^2 R_3 + ... + \\gamma^{T-1} R_T\n",
    "\\end{equation}\n",
    "\n",
    "En considérant un facteur de *rabais* $\\gamma = 0.99$:"
   ]
  },
  {
   "cell_type": "code",
   "execution_count": 58,
   "metadata": {
    "slideshow": {
     "slide_type": "subslide"
    }
   },
   "outputs": [
    {
     "name": "stdout",
     "output_type": "stream",
     "text": [
      "Le gain obtenu est 2.9701\n"
     ]
    }
   ],
   "source": [
    "state = env.reset()\n",
    "\n",
    "G = 0\n",
    "gamma = 0.99\n",
    "done = False\n",
    "t = 0 \n",
    "\n",
    "while not done:\n",
    "    action = np.random.choice(5)\n",
    "    next_state, reward, done, _ = env.step(action)\n",
    "    G += reward * gamma ** t\n",
    "    t += 1\n",
    "print(f'Le gain obtenu est {G}')"
   ]
  },
  {
   "cell_type": "markdown",
   "metadata": {
    "slideshow": {
     "slide_type": "subslide"
    }
   },
   "source": [
    "##### Politique\n",
    "\n",
    "Une politique est une fonction $\\pi(a|s) \\in [0, 1]$ qui donne la probabilité d'une action depuis l'état courant.\n",
    "Cette fonction prend en argument un état et une action et retourne une valeur dans [0.,1.].\n"
   ]
  },
  {
   "cell_type": "markdown",
   "metadata": {
    "slideshow": {
     "slide_type": "subslide"
    }
   },
   "source": [
    "En pratique, nous avons de calculer la probabilités de toutes les actions, nous représenterons une politique comme une fonction qui prend un état en argumene et renvoie les probabilités associées à chaque action.\n",
    "Donc, si les probabilités sont:\n",
    "    \n",
    "[0.5, 0.3, 0.2]\n",
    "\n",
    "l'action à l'indice 0 a 50% de probabiltés d'être choisie, celle à l'indice 1 est à 30% et la dernière à 20%."
   ]
  },
  {
   "cell_type": "markdown",
   "metadata": {
    "slideshow": {
     "slide_type": "subslide"
    }
   },
   "source": [
    "\n",
    "\n",
    "Nous pouvons définir une politique qui choisit les actions aléatoirement:"
   ]
  },
  {
   "cell_type": "code",
   "execution_count": 59,
   "metadata": {
    "slideshow": {
     "slide_type": "fragment"
    }
   },
   "outputs": [
    {
     "name": "stdout",
     "output_type": "stream",
     "text": [
      "[0.2 0.2 0.2 0.2 0.2]\n"
     ]
    }
   ],
   "source": [
    "def random_policy(state):\n",
    "    return np.array([1/5] * 5)\n",
    "print(random_policy(env.reset()))"
   ]
  },
  {
   "cell_type": "markdown",
   "metadata": {
    "slideshow": {
     "slide_type": "slide"
    }
   },
   "source": [
    "## Appliquons cette politique sur un épisode\n"
   ]
  },
  {
   "cell_type": "markdown",
   "metadata": {
    "slideshow": {
     "slide_type": "subslide"
    }
   },
   "source": [
    "#### Créer et ré-initialiser l'environnement\n"
   ]
  },
  {
   "cell_type": "code",
   "execution_count": 60,
   "metadata": {
    "slideshow": {
     "slide_type": "fragment"
    }
   },
   "outputs": [
    {
     "data": {
      "text/plain": [
       "(0, 0, 0)"
      ]
     },
     "execution_count": 60,
     "metadata": {},
     "output_type": "execute_result"
    }
   ],
   "source": [
    "env = BucketEnv3()\n",
    "env.reset()"
   ]
  },
  {
   "cell_type": "markdown",
   "metadata": {
    "slideshow": {
     "slide_type": "subslide"
    }
   },
   "source": [
    "###### Calculer $p(a|s) \\; \\forall a \\in \\{0, 1, 2, 3, 4\\}$"
   ]
  },
  {
   "cell_type": "code",
   "execution_count": null,
   "metadata": {
    "slideshow": {
     "slide_type": "fragment"
    }
   },
   "outputs": [],
   "source": []
  },
  {
   "cell_type": "code",
   "execution_count": null,
   "metadata": {
    "slideshow": {
     "slide_type": "fragment"
    }
   },
   "outputs": [],
   "source": []
  },
  {
   "cell_type": "markdown",
   "metadata": {
    "slideshow": {
     "slide_type": "subslide"
    }
   },
   "source": [
    "#### Utilisons cette politique au cours d'un épisode"
   ]
  },
  {
   "cell_type": "code",
   "execution_count": null,
   "metadata": {
    "slideshow": {
     "slide_type": "fragment"
    }
   },
   "outputs": [],
   "source": []
  }
 ],
 "metadata": {
  "celltoolbar": "Diaporama",
  "kernelspec": {
   "display_name": "Python 3 (ipykernel)",
   "language": "python",
   "name": "python3"
  },
  "language_info": {
   "codemirror_mode": {
    "name": "ipython",
    "version": 3
   },
   "file_extension": ".py",
   "mimetype": "text/x-python",
   "name": "python",
   "nbconvert_exporter": "python",
   "pygments_lexer": "ipython3",
   "version": "3.11.1 (v3.11.1:a7a450f84a, Dec  6 2022, 15:24:06) [Clang 13.0.0 (clang-1300.0.29.30)]"
  },
  "vscode": {
   "interpreter": {
    "hash": "aee8b7b246df8f9039afb4144a1f6fd8d2ca17a180786b69acc140d282b71a49"
   }
  }
 },
 "nbformat": 4,
 "nbformat_minor": 2
}
