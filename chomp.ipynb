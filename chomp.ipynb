{
 "cells": [
  {
   "cell_type": "code",
   "execution_count": 42,
   "metadata": {},
   "outputs": [],
   "source": [
    "import gym\n",
    "from gym import spaces\n",
    "from gym.utils.env_checker import check_env\n",
    "import matplotlib.pyplot as plt\n",
    "import numpy as np\n",
    "from bucket_env import plot_stats\n",
    "%matplotlib inline"
   ]
  },
  {
   "cell_type": "code",
   "execution_count": 43,
   "metadata": {},
   "outputs": [],
   "source": [
    "import scipy.stats as stat"
   ]
  },
  {
   "cell_type": "code",
   "execution_count": 107,
   "metadata": {},
   "outputs": [],
   "source": [
    "class ChompEnv(gym.Env):\n",
    "\n",
    "    def __init__(self, m=4, n=5):\n",
    "        self.m = m\n",
    "        self.n = n\n",
    "        self.max_m = m\n",
    "        self.max_n = n\n",
    "        self.action_space = spaces.Tuple((\n",
    "            spaces.Discrete(self.m),\n",
    "            spaces.Discrete(self.n)\n",
    "        ))\n",
    "        self.observation_space = spaces.Box(\n",
    "            low=0,\n",
    "            high=1,\n",
    "            shape=(self.m, self.n),\n",
    "            dtype=np.int32)\n",
    "        self.state = np.zeros((self.m, self.n), dtype=np.int32)\n",
    "\n",
    "    def step(self, action):\n",
    "       \n",
    "        row, col = action\n",
    "\n",
    "        #Joueur 1 : \n",
    "        self.max_m = row\n",
    "        self.max_n = col\n",
    "        if self.state[row,col] == 1:\n",
    "            reward = -1\n",
    "            raise Exception(\"carré déjà mangé\")\n",
    "        self.state[row:, col:] = 1\n",
    "        done = bool(np.all(self.state == 0))\n",
    "        reward = 1 if done else 0\n",
    "\n",
    "        #Joueur 2 :\n",
    "        if np.any(self.state[row:,col:] == 1):\n",
    "            possibilities = np.argwhere(self.state == 0)\n",
    "            random_action = tuple(np.random.choice(possibilities)[0])\n",
    "            row, col = random_action\n",
    "            self.state[row:,col:] = 1\n",
    "        done = np.all(self.state == 1)\n",
    "        reward = 1 if done else 0\n",
    "        return self.state, reward, done, {}\n",
    "\n",
    "    def reset(self):\n",
    "        self.state = np.zeros((self.m, self.n), dtype=np.int32)\n",
    "        return self.state\n",
    "\n",
    "    def render(self):\n",
    "        print(self.state)\n",
    "\n"
   ]
  },
  {
   "cell_type": "code",
   "execution_count": 111,
   "metadata": {},
   "outputs": [
    {
     "name": "stdout",
     "output_type": "stream",
     "text": [
      "[[0 0 0 1 1]\n",
      " [0 0 0 1 1]\n",
      " [0 0 0 1 1]\n",
      " [0 0 0 1 1]]\n"
     ]
    },
    {
     "name": "stderr",
     "output_type": "stream",
     "text": [
      "c:\\Users\\Romain\\AppData\\Local\\Programs\\Python\\Python310\\lib\\site-packages\\gym\\utils\\env_checker.py:109: UserWarning: \u001b[33mWARN: Your observation  has an unconventional shape (neither an image, nor a 1D vector). We recommend you to flatten the observation to have only a 1D vector or use a custom policy to properly process the data.\u001b[0m\n",
      "  logger.warn(\n"
     ]
    }
   ],
   "source": [
    "env = ChompEnv()\n",
    "check_env(env)\n",
    "env.reset()\n",
    "env.step((0,3))\n",
    "env.render()"
   ]
  }
 ],
 "metadata": {
  "kernelspec": {
   "display_name": "Python 3",
   "language": "python",
   "name": "python3"
  },
  "language_info": {
   "codemirror_mode": {
    "name": "ipython",
    "version": 3
   },
   "file_extension": ".py",
   "mimetype": "text/x-python",
   "name": "python",
   "nbconvert_exporter": "python",
   "pygments_lexer": "ipython3",
   "version": "3.10.2"
  },
  "orig_nbformat": 4,
  "vscode": {
   "interpreter": {
    "hash": "86aeb603e2ffe4fbd273cfc4bc11269962b24ad9628dd72e85c57c32dcc55c60"
   }
  }
 },
 "nbformat": 4,
 "nbformat_minor": 2
}
