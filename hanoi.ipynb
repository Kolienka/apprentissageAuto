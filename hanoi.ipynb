{
 "cells": [
  {
   "cell_type": "code",
   "execution_count": 163,
   "metadata": {},
   "outputs": [],
   "source": [
    "import gym\n",
    "from gym import spaces\n",
    "from gym.utils.env_checker import check_env\n",
    "import matplotlib.pyplot as plt\n",
    "import numpy as np\n",
    "from bucket_env import plot_stats\n",
    "%matplotlib inline"
   ]
  },
  {
   "cell_type": "code",
   "execution_count": 164,
   "metadata": {},
   "outputs": [],
   "source": [
    "import scipy.stats as stat"
   ]
  },
  {
   "cell_type": "code",
   "execution_count": 165,
   "metadata": {},
   "outputs": [],
   "source": [
    "class HanoiEnv(gym.Env):\n",
    "\n",
    "    def __init__(self, disks=3) -> None:\n",
    "        self.disks = disks\n",
    "        self.reward = 0\n",
    "        self.done = False\n",
    "        self.state = \"added\"\n",
    "        self.columns = np.array([[0,1,2],[],[]], dtype=object)\n",
    "        for i in range(self.disks):\n",
    "            self.columns[0] = i-1\n",
    "        self.action_space = spaces.Discrete(pow(3, self.disks)-1)\n",
    "        self.observation_space = spaces.Box(\n",
    "            low=0,\n",
    "            high=self.disks,\n",
    "            shape=self.columns.shape,\n",
    "            dtype=int\n",
    "        )\n",
    "    \n",
    "    def step(self,action):\n",
    "        columnChosen = min(max(0, action), 2)\n",
    "        size = len((self.columns[columnChosen]))\n",
    "        if self.state == \"added\":\n",
    "            if size > 0:\n",
    "                self.disk = self.columns[columnChosen].pop()\n",
    "                self.state = \"removed\"\n",
    "        else:\n",
    "            if size > 0:\n",
    "                if self.disk < self.columns[columnChosen][size-1]:\n",
    "                    self.columns[columnChosen].append(self.disk)\n",
    "                    self.state = \"added\"\n",
    "            else:\n",
    "                self.columns[columnChosen].append(self.disk)\n",
    "                self.state = \"added\"\n",
    "        self.reward = -1\n",
    "        return (self.columns[0], self.columns[1], self.columns[2]), self.reward, self.done, {}\n",
    "\n",
    "    def reset(self):\n",
    "        self.reward = 0\n",
    "        self.done = False\n",
    "        self.state = \"added\"\n",
    "        self.columns = np.array([[0,1,2],[],[]], dtype=object)\n",
    "        for i in range(self.disks):\n",
    "            self.columns[0] = i-1\n",
    "        return self.columns.reshape(3)\n",
    "    \n",
    "    def render(self, mode='human'):\n",
    "        print(self.columns)\n",
    "        print(\"[\", len(self.columns[0]), \"] \", \"[\", len(self.columns[1]), \"] \", \"[\", len(self.columns[2]), \"]\")\n",
    "        print(\"\")\n",
    "\n",
    "    def close(self):\n",
    "        pass\n",
    "\n"
   ]
  },
  {
   "cell_type": "code",
   "execution_count": 166,
   "metadata": {},
   "outputs": [
    {
     "ename": "AssertionError",
     "evalue": "The observation returned by the `reset()` method does not match the given observation space",
     "output_type": "error",
     "traceback": [
      "\u001b[1;31m---------------------------------------------------------------------------\u001b[0m",
      "\u001b[1;31mAssertionError\u001b[0m                            Traceback (most recent call last)",
      "Cell \u001b[1;32mIn[166], line 2\u001b[0m\n\u001b[0;32m      1\u001b[0m env \u001b[39m=\u001b[39m HanoiEnv()\n\u001b[1;32m----> 2\u001b[0m check_env(env)\n",
      "File \u001b[1;32mc:\\Users\\marti\\AppData\\Local\\Programs\\Python\\Python310\\lib\\site-packages\\gym\\utils\\env_checker.py:330\u001b[0m, in \u001b[0;36mcheck_env\u001b[1;34m(env, warn, skip_render_check)\u001b[0m\n\u001b[0;32m    327\u001b[0m         _check_normalized_action(action_space)\n\u001b[0;32m    329\u001b[0m \u001b[39m# ============ Check the returned values ===============\u001b[39;00m\n\u001b[1;32m--> 330\u001b[0m _check_returned_values(env, observation_space, action_space)\n\u001b[0;32m    332\u001b[0m \u001b[39m# ==== Check the render method and the declared render modes ====\u001b[39;00m\n\u001b[0;32m    333\u001b[0m \u001b[39mif\u001b[39;00m \u001b[39mnot\u001b[39;00m skip_render_check:\n",
      "File \u001b[1;32mc:\\Users\\marti\\AppData\\Local\\Programs\\Python\\Python310\\lib\\site-packages\\gym\\utils\\env_checker.py:187\u001b[0m, in \u001b[0;36m_check_returned_values\u001b[1;34m(env, observation_space, action_space)\u001b[0m\n\u001b[0;32m    185\u001b[0m             \u001b[39mraise\u001b[39;00m \u001b[39mAssertionError\u001b[39;00m(\u001b[39mf\u001b[39m\u001b[39m\"\u001b[39m\u001b[39mError while checking key=\u001b[39m\u001b[39m{\u001b[39;00mkey\u001b[39m}\u001b[39;00m\u001b[39m: \u001b[39m\u001b[39m\"\u001b[39m \u001b[39m+\u001b[39m \u001b[39mstr\u001b[39m(e))\n\u001b[0;32m    186\u001b[0m \u001b[39melse\u001b[39;00m:\n\u001b[1;32m--> 187\u001b[0m     _check_obs(obs, observation_space, \u001b[39m\"\u001b[39;49m\u001b[39mreset\u001b[39;49m\u001b[39m\"\u001b[39;49m)\n\u001b[0;32m    189\u001b[0m \u001b[39m# Sample a random action\u001b[39;00m\n\u001b[0;32m    190\u001b[0m action \u001b[39m=\u001b[39m action_space\u001b[39m.\u001b[39msample()\n",
      "File \u001b[1;32mc:\\Users\\marti\\AppData\\Local\\Programs\\Python\\Python310\\lib\\site-packages\\gym\\utils\\env_checker.py:91\u001b[0m, in \u001b[0;36m_check_obs\u001b[1;34m(obs, observation_space, method_name)\u001b[0m\n\u001b[0;32m     86\u001b[0m \u001b[39melif\u001b[39;00m _is_numpy_array_space(observation_space):\n\u001b[0;32m     87\u001b[0m     \u001b[39massert\u001b[39;00m \u001b[39misinstance\u001b[39m(\n\u001b[0;32m     88\u001b[0m         obs, np\u001b[39m.\u001b[39mndarray\n\u001b[0;32m     89\u001b[0m     ), \u001b[39mf\u001b[39m\u001b[39m\"\u001b[39m\u001b[39mThe observation returned by `\u001b[39m\u001b[39m{\u001b[39;00mmethod_name\u001b[39m}\u001b[39;00m\u001b[39m()` method must be a numpy array\u001b[39m\u001b[39m\"\u001b[39m\n\u001b[1;32m---> 91\u001b[0m \u001b[39massert\u001b[39;00m observation_space\u001b[39m.\u001b[39mcontains(\n\u001b[0;32m     92\u001b[0m     obs\n\u001b[0;32m     93\u001b[0m ), \u001b[39mf\u001b[39m\u001b[39m\"\u001b[39m\u001b[39mThe observation returned by the `\u001b[39m\u001b[39m{\u001b[39;00mmethod_name\u001b[39m}\u001b[39;00m\u001b[39m()` method does not match the given observation space\u001b[39m\u001b[39m\"\u001b[39m\n",
      "\u001b[1;31mAssertionError\u001b[0m: The observation returned by the `reset()` method does not match the given observation space"
     ]
    }
   ],
   "source": [
    "env = HanoiEnv()\n",
    "check_env(env)"
   ]
  },
  {
   "cell_type": "code",
   "execution_count": null,
   "metadata": {},
   "outputs": [
    {
     "data": {
      "text/plain": [
       "(1, -1, False, {})"
      ]
     },
     "execution_count": 31,
     "metadata": {},
     "output_type": "execute_result"
    }
   ],
   "source": [
    "env = HanoiEnv()\n",
    "env.reset()\n",
    "env.step(0)"
   ]
  }
 ],
 "metadata": {
  "kernelspec": {
   "display_name": "Python 3",
   "language": "python",
   "name": "python3"
  },
  "language_info": {
   "codemirror_mode": {
    "name": "ipython",
    "version": 3
   },
   "file_extension": ".py",
   "mimetype": "text/x-python",
   "name": "python",
   "nbconvert_exporter": "python",
   "pygments_lexer": "ipython3",
   "version": "3.10.7"
  },
  "orig_nbformat": 4,
  "vscode": {
   "interpreter": {
    "hash": "e7ccb2a435b656723dafd2fb88eb02b6891256ab8b77d2cf3044cea9811453d0"
   }
  }
 },
 "nbformat": 4,
 "nbformat_minor": 2
}
