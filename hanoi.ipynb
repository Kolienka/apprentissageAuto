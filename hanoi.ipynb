{
 "cells": [
  {
   "cell_type": "code",
   "execution_count": 1176,
   "metadata": {},
   "outputs": [],
   "source": [
    "import gym\n",
    "from gym import spaces\n",
    "from gym.utils.env_checker import check_env\n",
    "import matplotlib.pyplot as plt\n",
    "import numpy as np\n",
    "from bucket_env import plot_stats\n",
    "%matplotlib inline"
   ]
  },
  {
   "cell_type": "code",
   "execution_count": 1177,
   "metadata": {},
   "outputs": [],
   "source": [
    "import scipy.stats as stat"
   ]
  },
  {
   "cell_type": "code",
   "execution_count": 1178,
   "metadata": {},
   "outputs": [],
   "source": [
    "class HanoiEnv(gym.Env):\n",
    "\n",
    "    def __init__(self, disks=3) -> None:\n",
    "        self.disks = disks\n",
    "        self.reward = 0\n",
    "        self.done = False\n",
    "        self.columns = tuple([0 for _ in range(disks)])\n",
    "        self.action_space = spaces.Tuple((spaces.Discrete(disks), spaces.Discrete(2)))\n",
    "        self.observation_space = spaces.Tuple(tuple([spaces.Discrete(3) for _ in range(disks)]))\n",
    "    \n",
    "\n",
    "    def is_move_allowed(self, action):\n",
    "        disk_chosen, tower_destination = action\n",
    "\n",
    "        for i in range(disk_chosen + 1, len(tuple(self.columns))): # Vérif pas de disques au dessus du disque choisi\n",
    "            if self.columns[disk_chosen] == self.columns[i]: \n",
    "                return False\n",
    "        for i in range(disk_chosen + 1, len(tuple(self.columns))):\n",
    "            if self.columns[i] == tower_destination:\n",
    "                return False\n",
    "        return True\n",
    "\n",
    "\n",
    "\n",
    "    def step(self, action):\n",
    "        disk_chosen, tower_destination = action\n",
    "        if not self.is_move_allowed(action):\n",
    "            self.reward = float('-inf')\n",
    "            self.done = True\n",
    "            return self.columns, self.reward, self.done, {}\n",
    "        columns = list(self.columns)\n",
    "        columns[disk_chosen] = tower_destination\n",
    "        self.columns = tuple(columns)\n",
    "        if not self.columns == tuple([2 for _ in range(self.disks)]):\n",
    "            self.reward = -1\n",
    "            self.done = False\n",
    "        else:\n",
    "            self.done = True\n",
    "        return self.columns, self.reward, self.done, {}\n",
    "\n",
    "    def reset(self):\n",
    "        self.reward = 0\n",
    "        self.done = False\n",
    "        self.columns = tuple([0 for _ in range(self.disks)])\n",
    "        return self.columns\n",
    "    \n",
    "    def render(self, mode='human'):\n",
    "        print(\"a b c\")\n",
    "        pass\n",
    "\n",
    "    def close(self):\n",
    "        pass\n",
    "\n"
   ]
  },
  {
   "cell_type": "code",
   "execution_count": 1179,
   "metadata": {},
   "outputs": [],
   "source": [
    "env = HanoiEnv()\n",
    "check_env(env)"
   ]
  },
  {
   "cell_type": "code",
   "execution_count": 1180,
   "metadata": {},
   "outputs": [
    {
     "data": {
      "text/plain": [
       "(0, 0, 0)"
      ]
     },
     "execution_count": 1180,
     "metadata": {},
     "output_type": "execute_result"
    }
   ],
   "source": [
    "env = HanoiEnv(disks=3)\n",
    "env.reset()\n"
   ]
  },
  {
   "cell_type": "code",
   "execution_count": 1181,
   "metadata": {},
   "outputs": [
    {
     "data": {
      "text/plain": [
       "((0, 0, 1), -inf, True, {})"
      ]
     },
     "execution_count": 1181,
     "metadata": {},
     "output_type": "execute_result"
    }
   ],
   "source": [
    "env.step((2,1)) # Impossible donc donne -inf et True\n",
    "env.reset()\n",
    "env.step((2,1)) # Passe le petit disque en colonne du milieu\n",
    "env.step((1,1)) # Passe le moyen en colone du milieu -> impossible donc donne -inf et True"
   ]
  },
  {
   "cell_type": "code",
   "execution_count": 1182,
   "metadata": {},
   "outputs": [],
   "source": [
    "from tqdm import tqdm"
   ]
  },
  {
   "cell_type": "code",
   "execution_count": 1183,
   "metadata": {},
   "outputs": [],
   "source": [
    "def exploratory_policy(state):\n",
    "  random_disk = np.random.randint(0,3)\n",
    "  random_tower = np.random.randint(0,3)\n",
    "  return (random_disk, random_tower)"
   ]
  },
  {
   "cell_type": "code",
   "execution_count": 1184,
   "metadata": {},
   "outputs": [
    {
     "name": "stdout",
     "output_type": "stream",
     "text": [
      "(3, 3, 3, 2, 1)\n"
     ]
    }
   ],
   "source": [
    "action_values = np.zeros(((3, 3, 3) + (2,1)))\n",
    "print(action_values.shape)"
   ]
  },
  {
   "cell_type": "code",
   "execution_count": 1185,
   "metadata": {},
   "outputs": [],
   "source": [
    "def target_policy(state):\n",
    "    av = action_values[state]\n",
    "    return np.random.choice(np.flatnonzero(av == av.max()))"
   ]
  },
  {
   "cell_type": "code",
   "execution_count": 1186,
   "metadata": {},
   "outputs": [],
   "source": [
    "def q_learning(exploratory_policy, target_policy, action_values, episodes, alpha=0.1, gamma=0.99):\n",
    "    stats = {'Returns': []}\n",
    "    for episode in tqdm(range(1, episodes + 1)):\n",
    "        state = env.reset()\n",
    "        done = False\n",
    "        ep_return = 0\n",
    "        while not done:\n",
    "            action = exploratory_policy(state)\n",
    "            next_state, reward, done, _ = env.step(action)\n",
    "            ep_return += reward\n",
    "            next_action = target_policy(next_state) if not done else None\n",
    "            qsa = action_values[state][action]\n",
    "            next_qsa = action_values[next_state][next_action] if not done else 0.\n",
    "            action_values[state][action] = qsa + alpha * (reward + gamma * next_qsa - qsa)\n",
    "            print(qsa)\n",
    "            state = next_state\n",
    "        stats['Returns'].append(ep_return)\n",
    "    return stats"
   ]
  },
  {
   "cell_type": "code",
   "execution_count": 1187,
   "metadata": {},
   "outputs": [
    {
     "name": "stderr",
     "output_type": "stream",
     "text": [
      "  0%|          | 0/10000 [00:00<?, ?it/s]\n"
     ]
    },
    {
     "ename": "IndexError",
     "evalue": "index 2 is out of bounds for axis 0 with size 2",
     "output_type": "error",
     "traceback": [
      "\u001b[1;31m---------------------------------------------------------------------------\u001b[0m",
      "\u001b[1;31mIndexError\u001b[0m                                Traceback (most recent call last)",
      "Cell \u001b[1;32mIn[1187], line 1\u001b[0m\n\u001b[1;32m----> 1\u001b[0m stats \u001b[39m=\u001b[39m q_learning(exploratory_policy, target_policy, action_values, episodes\u001b[39m=\u001b[39;49m\u001b[39m10000\u001b[39;49m)\n\u001b[0;32m      2\u001b[0m plot_stats(stats)\n",
      "Cell \u001b[1;32mIn[1186], line 12\u001b[0m, in \u001b[0;36mq_learning\u001b[1;34m(exploratory_policy, target_policy, action_values, episodes, alpha, gamma)\u001b[0m\n\u001b[0;32m     10\u001b[0m ep_return \u001b[39m+\u001b[39m\u001b[39m=\u001b[39m reward\n\u001b[0;32m     11\u001b[0m next_action \u001b[39m=\u001b[39m target_policy(next_state) \u001b[39mif\u001b[39;00m \u001b[39mnot\u001b[39;00m done \u001b[39melse\u001b[39;00m \u001b[39mNone\u001b[39;00m\n\u001b[1;32m---> 12\u001b[0m qsa \u001b[39m=\u001b[39m action_values[state][action]\n\u001b[0;32m     13\u001b[0m next_qsa \u001b[39m=\u001b[39m action_values[next_state][next_action] \u001b[39mif\u001b[39;00m \u001b[39mnot\u001b[39;00m done \u001b[39melse\u001b[39;00m \u001b[39m0.\u001b[39m\n\u001b[0;32m     14\u001b[0m action_values[state][action] \u001b[39m=\u001b[39m qsa \u001b[39m+\u001b[39m alpha \u001b[39m*\u001b[39m (reward \u001b[39m+\u001b[39m gamma \u001b[39m*\u001b[39m next_qsa \u001b[39m-\u001b[39m qsa)\n",
      "\u001b[1;31mIndexError\u001b[0m: index 2 is out of bounds for axis 0 with size 2"
     ]
    }
   ],
   "source": [
    "stats = q_learning(exploratory_policy, target_policy, action_values, episodes=10000)\n",
    "plot_stats(stats)"
   ]
  }
 ],
 "metadata": {
  "kernelspec": {
   "display_name": "Python 3",
   "language": "python",
   "name": "python3"
  },
  "language_info": {
   "codemirror_mode": {
    "name": "ipython",
    "version": 3
   },
   "file_extension": ".py",
   "mimetype": "text/x-python",
   "name": "python",
   "nbconvert_exporter": "python",
   "pygments_lexer": "ipython3",
   "version": "3.10.7"
  },
  "orig_nbformat": 4,
  "vscode": {
   "interpreter": {
    "hash": "e7ccb2a435b656723dafd2fb88eb02b6891256ab8b77d2cf3044cea9811453d0"
   }
  }
 },
 "nbformat": 4,
 "nbformat_minor": 2
}
